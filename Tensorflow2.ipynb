{
  "nbformat": 4,
  "nbformat_minor": 0,
  "metadata": {
    "colab": {
      "name": "Tensorflow2.ipynb",
      "provenance": [],
      "authorship_tag": "ABX9TyNnUt2tLJoXN2GtYHD/C9Yl",
      "include_colab_link": true
    },
    "kernelspec": {
      "name": "python3",
      "display_name": "Python 3"
    },
    "accelerator": "GPU",
    "widgets": {
      "application/vnd.jupyter.widget-state+json": {
        "70e5139ffa6c472faa9bbc48f12ed8bf": {
          "model_module": "@jupyter-widgets/controls",
          "model_name": "HBoxModel",
          "state": {
            "_view_name": "HBoxView",
            "_dom_classes": [],
            "_model_name": "HBoxModel",
            "_view_module": "@jupyter-widgets/controls",
            "_model_module_version": "1.5.0",
            "_view_count": null,
            "_view_module_version": "1.5.0",
            "box_style": "",
            "layout": "IPY_MODEL_95629074a78044ba9adf49671d931b98",
            "_model_module": "@jupyter-widgets/controls",
            "children": [
              "IPY_MODEL_6d3b2db4c6a644b681541ab5df8b0cfc",
              "IPY_MODEL_47cf168ca1c64a31a1821bc28db794b7"
            ]
          }
        },
        "95629074a78044ba9adf49671d931b98": {
          "model_module": "@jupyter-widgets/base",
          "model_name": "LayoutModel",
          "state": {
            "_view_name": "LayoutView",
            "grid_template_rows": null,
            "right": null,
            "justify_content": null,
            "_view_module": "@jupyter-widgets/base",
            "overflow": null,
            "_model_module_version": "1.2.0",
            "_view_count": null,
            "flex_flow": null,
            "width": null,
            "min_width": null,
            "border": null,
            "align_items": null,
            "bottom": null,
            "_model_module": "@jupyter-widgets/base",
            "top": null,
            "grid_column": null,
            "overflow_y": null,
            "overflow_x": null,
            "grid_auto_flow": null,
            "grid_area": null,
            "grid_template_columns": null,
            "flex": null,
            "_model_name": "LayoutModel",
            "justify_items": null,
            "grid_row": null,
            "max_height": null,
            "align_content": null,
            "visibility": null,
            "align_self": null,
            "height": null,
            "min_height": null,
            "padding": null,
            "grid_auto_rows": null,
            "grid_gap": null,
            "max_width": null,
            "order": null,
            "_view_module_version": "1.2.0",
            "grid_template_areas": null,
            "object_position": null,
            "object_fit": null,
            "grid_auto_columns": null,
            "margin": null,
            "display": null,
            "left": null
          }
        },
        "6d3b2db4c6a644b681541ab5df8b0cfc": {
          "model_module": "@jupyter-widgets/controls",
          "model_name": "IntProgressModel",
          "state": {
            "_view_name": "ProgressView",
            "style": "IPY_MODEL_08cce5ef30bb4b3896847766c8a3293d",
            "_dom_classes": [],
            "description": "Dl Completed...: 100%",
            "_model_name": "IntProgressModel",
            "bar_style": "success",
            "max": 1,
            "_view_module": "@jupyter-widgets/controls",
            "_model_module_version": "1.5.0",
            "value": 1,
            "_view_count": null,
            "_view_module_version": "1.5.0",
            "orientation": "horizontal",
            "min": 0,
            "description_tooltip": null,
            "_model_module": "@jupyter-widgets/controls",
            "layout": "IPY_MODEL_e61157c63c1d4fd397d2c76711414793"
          }
        },
        "47cf168ca1c64a31a1821bc28db794b7": {
          "model_module": "@jupyter-widgets/controls",
          "model_name": "HTMLModel",
          "state": {
            "_view_name": "HTMLView",
            "style": "IPY_MODEL_6fe3d023e69d462fb179b1f91f209d5b",
            "_dom_classes": [],
            "description": "",
            "_model_name": "HTMLModel",
            "placeholder": "​",
            "_view_module": "@jupyter-widgets/controls",
            "_model_module_version": "1.5.0",
            "value": " 1/1 [00:01&lt;00:00,  1.25s/ url]",
            "_view_count": null,
            "_view_module_version": "1.5.0",
            "description_tooltip": null,
            "_model_module": "@jupyter-widgets/controls",
            "layout": "IPY_MODEL_8ea6f1169b114bee9acea4e56189bb88"
          }
        },
        "08cce5ef30bb4b3896847766c8a3293d": {
          "model_module": "@jupyter-widgets/controls",
          "model_name": "ProgressStyleModel",
          "state": {
            "_view_name": "StyleView",
            "_model_name": "ProgressStyleModel",
            "description_width": "initial",
            "_view_module": "@jupyter-widgets/base",
            "_model_module_version": "1.5.0",
            "_view_count": null,
            "_view_module_version": "1.2.0",
            "bar_color": null,
            "_model_module": "@jupyter-widgets/controls"
          }
        },
        "e61157c63c1d4fd397d2c76711414793": {
          "model_module": "@jupyter-widgets/base",
          "model_name": "LayoutModel",
          "state": {
            "_view_name": "LayoutView",
            "grid_template_rows": null,
            "right": null,
            "justify_content": null,
            "_view_module": "@jupyter-widgets/base",
            "overflow": null,
            "_model_module_version": "1.2.0",
            "_view_count": null,
            "flex_flow": null,
            "width": null,
            "min_width": null,
            "border": null,
            "align_items": null,
            "bottom": null,
            "_model_module": "@jupyter-widgets/base",
            "top": null,
            "grid_column": null,
            "overflow_y": null,
            "overflow_x": null,
            "grid_auto_flow": null,
            "grid_area": null,
            "grid_template_columns": null,
            "flex": null,
            "_model_name": "LayoutModel",
            "justify_items": null,
            "grid_row": null,
            "max_height": null,
            "align_content": null,
            "visibility": null,
            "align_self": null,
            "height": null,
            "min_height": null,
            "padding": null,
            "grid_auto_rows": null,
            "grid_gap": null,
            "max_width": null,
            "order": null,
            "_view_module_version": "1.2.0",
            "grid_template_areas": null,
            "object_position": null,
            "object_fit": null,
            "grid_auto_columns": null,
            "margin": null,
            "display": null,
            "left": null
          }
        },
        "6fe3d023e69d462fb179b1f91f209d5b": {
          "model_module": "@jupyter-widgets/controls",
          "model_name": "DescriptionStyleModel",
          "state": {
            "_view_name": "StyleView",
            "_model_name": "DescriptionStyleModel",
            "description_width": "",
            "_view_module": "@jupyter-widgets/base",
            "_model_module_version": "1.5.0",
            "_view_count": null,
            "_view_module_version": "1.2.0",
            "_model_module": "@jupyter-widgets/controls"
          }
        },
        "8ea6f1169b114bee9acea4e56189bb88": {
          "model_module": "@jupyter-widgets/base",
          "model_name": "LayoutModel",
          "state": {
            "_view_name": "LayoutView",
            "grid_template_rows": null,
            "right": null,
            "justify_content": null,
            "_view_module": "@jupyter-widgets/base",
            "overflow": null,
            "_model_module_version": "1.2.0",
            "_view_count": null,
            "flex_flow": null,
            "width": null,
            "min_width": null,
            "border": null,
            "align_items": null,
            "bottom": null,
            "_model_module": "@jupyter-widgets/base",
            "top": null,
            "grid_column": null,
            "overflow_y": null,
            "overflow_x": null,
            "grid_auto_flow": null,
            "grid_area": null,
            "grid_template_columns": null,
            "flex": null,
            "_model_name": "LayoutModel",
            "justify_items": null,
            "grid_row": null,
            "max_height": null,
            "align_content": null,
            "visibility": null,
            "align_self": null,
            "height": null,
            "min_height": null,
            "padding": null,
            "grid_auto_rows": null,
            "grid_gap": null,
            "max_width": null,
            "order": null,
            "_view_module_version": "1.2.0",
            "grid_template_areas": null,
            "object_position": null,
            "object_fit": null,
            "grid_auto_columns": null,
            "margin": null,
            "display": null,
            "left": null
          }
        },
        "1d732f2ab94a4081acbc85c75dd210a5": {
          "model_module": "@jupyter-widgets/controls",
          "model_name": "HBoxModel",
          "state": {
            "_view_name": "HBoxView",
            "_dom_classes": [],
            "_model_name": "HBoxModel",
            "_view_module": "@jupyter-widgets/controls",
            "_model_module_version": "1.5.0",
            "_view_count": null,
            "_view_module_version": "1.5.0",
            "box_style": "",
            "layout": "IPY_MODEL_1616bc7ad0a040f698e825517882dd00",
            "_model_module": "@jupyter-widgets/controls",
            "children": [
              "IPY_MODEL_1b25938fc88c498f88a92ae1b7b0acad",
              "IPY_MODEL_af0afa54b2e8477d9d61a0c29a23999d"
            ]
          }
        },
        "1616bc7ad0a040f698e825517882dd00": {
          "model_module": "@jupyter-widgets/base",
          "model_name": "LayoutModel",
          "state": {
            "_view_name": "LayoutView",
            "grid_template_rows": null,
            "right": null,
            "justify_content": null,
            "_view_module": "@jupyter-widgets/base",
            "overflow": null,
            "_model_module_version": "1.2.0",
            "_view_count": null,
            "flex_flow": null,
            "width": null,
            "min_width": null,
            "border": null,
            "align_items": null,
            "bottom": null,
            "_model_module": "@jupyter-widgets/base",
            "top": null,
            "grid_column": null,
            "overflow_y": null,
            "overflow_x": null,
            "grid_auto_flow": null,
            "grid_area": null,
            "grid_template_columns": null,
            "flex": null,
            "_model_name": "LayoutModel",
            "justify_items": null,
            "grid_row": null,
            "max_height": null,
            "align_content": null,
            "visibility": null,
            "align_self": null,
            "height": null,
            "min_height": null,
            "padding": null,
            "grid_auto_rows": null,
            "grid_gap": null,
            "max_width": null,
            "order": null,
            "_view_module_version": "1.2.0",
            "grid_template_areas": null,
            "object_position": null,
            "object_fit": null,
            "grid_auto_columns": null,
            "margin": null,
            "display": null,
            "left": null
          }
        },
        "1b25938fc88c498f88a92ae1b7b0acad": {
          "model_module": "@jupyter-widgets/controls",
          "model_name": "IntProgressModel",
          "state": {
            "_view_name": "ProgressView",
            "style": "IPY_MODEL_4c0689ffae594cb58481c4c8aacb2bc2",
            "_dom_classes": [],
            "description": "Dl Size...: 100%",
            "_model_name": "IntProgressModel",
            "bar_style": "success",
            "max": 1,
            "_view_module": "@jupyter-widgets/controls",
            "_model_module_version": "1.5.0",
            "value": 1,
            "_view_count": null,
            "_view_module_version": "1.5.0",
            "orientation": "horizontal",
            "min": 0,
            "description_tooltip": null,
            "_model_module": "@jupyter-widgets/controls",
            "layout": "IPY_MODEL_fd59eb67ad5e47f288fa1fb6a649b295"
          }
        },
        "af0afa54b2e8477d9d61a0c29a23999d": {
          "model_module": "@jupyter-widgets/controls",
          "model_name": "HTMLModel",
          "state": {
            "_view_name": "HTMLView",
            "style": "IPY_MODEL_1fc6df69add34757b5dee323c4d14fe8",
            "_dom_classes": [],
            "description": "",
            "_model_name": "HTMLModel",
            "placeholder": "​",
            "_view_module": "@jupyter-widgets/controls",
            "_model_module_version": "1.5.0",
            "value": " 80/80 [00:01&lt;00:00, 65.18 MiB/s]",
            "_view_count": null,
            "_view_module_version": "1.5.0",
            "description_tooltip": null,
            "_model_module": "@jupyter-widgets/controls",
            "layout": "IPY_MODEL_4c7d452b5c9843c682d24c8b913e2519"
          }
        },
        "4c0689ffae594cb58481c4c8aacb2bc2": {
          "model_module": "@jupyter-widgets/controls",
          "model_name": "ProgressStyleModel",
          "state": {
            "_view_name": "StyleView",
            "_model_name": "ProgressStyleModel",
            "description_width": "initial",
            "_view_module": "@jupyter-widgets/base",
            "_model_module_version": "1.5.0",
            "_view_count": null,
            "_view_module_version": "1.2.0",
            "bar_color": null,
            "_model_module": "@jupyter-widgets/controls"
          }
        },
        "fd59eb67ad5e47f288fa1fb6a649b295": {
          "model_module": "@jupyter-widgets/base",
          "model_name": "LayoutModel",
          "state": {
            "_view_name": "LayoutView",
            "grid_template_rows": null,
            "right": null,
            "justify_content": null,
            "_view_module": "@jupyter-widgets/base",
            "overflow": null,
            "_model_module_version": "1.2.0",
            "_view_count": null,
            "flex_flow": null,
            "width": null,
            "min_width": null,
            "border": null,
            "align_items": null,
            "bottom": null,
            "_model_module": "@jupyter-widgets/base",
            "top": null,
            "grid_column": null,
            "overflow_y": null,
            "overflow_x": null,
            "grid_auto_flow": null,
            "grid_area": null,
            "grid_template_columns": null,
            "flex": null,
            "_model_name": "LayoutModel",
            "justify_items": null,
            "grid_row": null,
            "max_height": null,
            "align_content": null,
            "visibility": null,
            "align_self": null,
            "height": null,
            "min_height": null,
            "padding": null,
            "grid_auto_rows": null,
            "grid_gap": null,
            "max_width": null,
            "order": null,
            "_view_module_version": "1.2.0",
            "grid_template_areas": null,
            "object_position": null,
            "object_fit": null,
            "grid_auto_columns": null,
            "margin": null,
            "display": null,
            "left": null
          }
        },
        "1fc6df69add34757b5dee323c4d14fe8": {
          "model_module": "@jupyter-widgets/controls",
          "model_name": "DescriptionStyleModel",
          "state": {
            "_view_name": "StyleView",
            "_model_name": "DescriptionStyleModel",
            "description_width": "",
            "_view_module": "@jupyter-widgets/base",
            "_model_module_version": "1.5.0",
            "_view_count": null,
            "_view_module_version": "1.2.0",
            "_model_module": "@jupyter-widgets/controls"
          }
        },
        "4c7d452b5c9843c682d24c8b913e2519": {
          "model_module": "@jupyter-widgets/base",
          "model_name": "LayoutModel",
          "state": {
            "_view_name": "LayoutView",
            "grid_template_rows": null,
            "right": null,
            "justify_content": null,
            "_view_module": "@jupyter-widgets/base",
            "overflow": null,
            "_model_module_version": "1.2.0",
            "_view_count": null,
            "flex_flow": null,
            "width": null,
            "min_width": null,
            "border": null,
            "align_items": null,
            "bottom": null,
            "_model_module": "@jupyter-widgets/base",
            "top": null,
            "grid_column": null,
            "overflow_y": null,
            "overflow_x": null,
            "grid_auto_flow": null,
            "grid_area": null,
            "grid_template_columns": null,
            "flex": null,
            "_model_name": "LayoutModel",
            "justify_items": null,
            "grid_row": null,
            "max_height": null,
            "align_content": null,
            "visibility": null,
            "align_self": null,
            "height": null,
            "min_height": null,
            "padding": null,
            "grid_auto_rows": null,
            "grid_gap": null,
            "max_width": null,
            "order": null,
            "_view_module_version": "1.2.0",
            "grid_template_areas": null,
            "object_position": null,
            "object_fit": null,
            "grid_auto_columns": null,
            "margin": null,
            "display": null,
            "left": null
          }
        },
        "2f855fea4277496f86e9d0ed6e9dc8b5": {
          "model_module": "@jupyter-widgets/controls",
          "model_name": "HBoxModel",
          "state": {
            "_view_name": "HBoxView",
            "_dom_classes": [],
            "_model_name": "HBoxModel",
            "_view_module": "@jupyter-widgets/controls",
            "_model_module_version": "1.5.0",
            "_view_count": null,
            "_view_module_version": "1.5.0",
            "box_style": "",
            "layout": "IPY_MODEL_fc3fb60239194fc2a209bbacc2f380c4",
            "_model_module": "@jupyter-widgets/controls",
            "children": [
              "IPY_MODEL_4e572910e0d64eb7a05e78c7d2589643",
              "IPY_MODEL_8d9f43147e5a41a9a8eb1390333f5d82"
            ]
          }
        },
        "fc3fb60239194fc2a209bbacc2f380c4": {
          "model_module": "@jupyter-widgets/base",
          "model_name": "LayoutModel",
          "state": {
            "_view_name": "LayoutView",
            "grid_template_rows": null,
            "right": null,
            "justify_content": null,
            "_view_module": "@jupyter-widgets/base",
            "overflow": null,
            "_model_module_version": "1.2.0",
            "_view_count": null,
            "flex_flow": null,
            "width": null,
            "min_width": null,
            "border": null,
            "align_items": null,
            "bottom": null,
            "_model_module": "@jupyter-widgets/base",
            "top": null,
            "grid_column": null,
            "overflow_y": null,
            "overflow_x": null,
            "grid_auto_flow": null,
            "grid_area": null,
            "grid_template_columns": null,
            "flex": null,
            "_model_name": "LayoutModel",
            "justify_items": null,
            "grid_row": null,
            "max_height": null,
            "align_content": null,
            "visibility": null,
            "align_self": null,
            "height": null,
            "min_height": null,
            "padding": null,
            "grid_auto_rows": null,
            "grid_gap": null,
            "max_width": null,
            "order": null,
            "_view_module_version": "1.2.0",
            "grid_template_areas": null,
            "object_position": null,
            "object_fit": null,
            "grid_auto_columns": null,
            "margin": null,
            "display": null,
            "left": null
          }
        },
        "4e572910e0d64eb7a05e78c7d2589643": {
          "model_module": "@jupyter-widgets/controls",
          "model_name": "IntProgressModel",
          "state": {
            "_view_name": "ProgressView",
            "style": "IPY_MODEL_57f2ce3a70d642c9acc388b8c286c0d9",
            "_dom_classes": [],
            "description": "",
            "_model_name": "IntProgressModel",
            "bar_style": "info",
            "max": 1,
            "_view_module": "@jupyter-widgets/controls",
            "_model_module_version": "1.5.0",
            "value": 1,
            "_view_count": null,
            "_view_module_version": "1.5.0",
            "orientation": "horizontal",
            "min": 0,
            "description_tooltip": null,
            "_model_module": "@jupyter-widgets/controls",
            "layout": "IPY_MODEL_837133d5dd104ffa9e5c11d3b7e0072b"
          }
        },
        "8d9f43147e5a41a9a8eb1390333f5d82": {
          "model_module": "@jupyter-widgets/controls",
          "model_name": "HTMLModel",
          "state": {
            "_view_name": "HTMLView",
            "style": "IPY_MODEL_47d7374e10f04537a16d17142d70be83",
            "_dom_classes": [],
            "description": "",
            "_model_name": "HTMLModel",
            "placeholder": "​",
            "_view_module": "@jupyter-widgets/controls",
            "_model_module_version": "1.5.0",
            "value": " 25000/0 [00:12&lt;00:00, 3463.23 examples/s]",
            "_view_count": null,
            "_view_module_version": "1.5.0",
            "description_tooltip": null,
            "_model_module": "@jupyter-widgets/controls",
            "layout": "IPY_MODEL_4ff57fda7fef403e843678127d6db3ed"
          }
        },
        "57f2ce3a70d642c9acc388b8c286c0d9": {
          "model_module": "@jupyter-widgets/controls",
          "model_name": "ProgressStyleModel",
          "state": {
            "_view_name": "StyleView",
            "_model_name": "ProgressStyleModel",
            "description_width": "initial",
            "_view_module": "@jupyter-widgets/base",
            "_model_module_version": "1.5.0",
            "_view_count": null,
            "_view_module_version": "1.2.0",
            "bar_color": null,
            "_model_module": "@jupyter-widgets/controls"
          }
        },
        "837133d5dd104ffa9e5c11d3b7e0072b": {
          "model_module": "@jupyter-widgets/base",
          "model_name": "LayoutModel",
          "state": {
            "_view_name": "LayoutView",
            "grid_template_rows": null,
            "right": null,
            "justify_content": null,
            "_view_module": "@jupyter-widgets/base",
            "overflow": null,
            "_model_module_version": "1.2.0",
            "_view_count": null,
            "flex_flow": null,
            "width": null,
            "min_width": null,
            "border": null,
            "align_items": null,
            "bottom": null,
            "_model_module": "@jupyter-widgets/base",
            "top": null,
            "grid_column": null,
            "overflow_y": null,
            "overflow_x": null,
            "grid_auto_flow": null,
            "grid_area": null,
            "grid_template_columns": null,
            "flex": null,
            "_model_name": "LayoutModel",
            "justify_items": null,
            "grid_row": null,
            "max_height": null,
            "align_content": null,
            "visibility": null,
            "align_self": null,
            "height": null,
            "min_height": null,
            "padding": null,
            "grid_auto_rows": null,
            "grid_gap": null,
            "max_width": null,
            "order": null,
            "_view_module_version": "1.2.0",
            "grid_template_areas": null,
            "object_position": null,
            "object_fit": null,
            "grid_auto_columns": null,
            "margin": null,
            "display": null,
            "left": null
          }
        },
        "47d7374e10f04537a16d17142d70be83": {
          "model_module": "@jupyter-widgets/controls",
          "model_name": "DescriptionStyleModel",
          "state": {
            "_view_name": "StyleView",
            "_model_name": "DescriptionStyleModel",
            "description_width": "",
            "_view_module": "@jupyter-widgets/base",
            "_model_module_version": "1.5.0",
            "_view_count": null,
            "_view_module_version": "1.2.0",
            "_model_module": "@jupyter-widgets/controls"
          }
        },
        "4ff57fda7fef403e843678127d6db3ed": {
          "model_module": "@jupyter-widgets/base",
          "model_name": "LayoutModel",
          "state": {
            "_view_name": "LayoutView",
            "grid_template_rows": null,
            "right": null,
            "justify_content": null,
            "_view_module": "@jupyter-widgets/base",
            "overflow": null,
            "_model_module_version": "1.2.0",
            "_view_count": null,
            "flex_flow": null,
            "width": null,
            "min_width": null,
            "border": null,
            "align_items": null,
            "bottom": null,
            "_model_module": "@jupyter-widgets/base",
            "top": null,
            "grid_column": null,
            "overflow_y": null,
            "overflow_x": null,
            "grid_auto_flow": null,
            "grid_area": null,
            "grid_template_columns": null,
            "flex": null,
            "_model_name": "LayoutModel",
            "justify_items": null,
            "grid_row": null,
            "max_height": null,
            "align_content": null,
            "visibility": null,
            "align_self": null,
            "height": null,
            "min_height": null,
            "padding": null,
            "grid_auto_rows": null,
            "grid_gap": null,
            "max_width": null,
            "order": null,
            "_view_module_version": "1.2.0",
            "grid_template_areas": null,
            "object_position": null,
            "object_fit": null,
            "grid_auto_columns": null,
            "margin": null,
            "display": null,
            "left": null
          }
        },
        "3926ff70f9a740d39fc8f74c8c7a5681": {
          "model_module": "@jupyter-widgets/controls",
          "model_name": "HBoxModel",
          "state": {
            "_view_name": "HBoxView",
            "_dom_classes": [],
            "_model_name": "HBoxModel",
            "_view_module": "@jupyter-widgets/controls",
            "_model_module_version": "1.5.0",
            "_view_count": null,
            "_view_module_version": "1.5.0",
            "box_style": "",
            "layout": "IPY_MODEL_f4e691c71b034c98baf65021e38b9f29",
            "_model_module": "@jupyter-widgets/controls",
            "children": [
              "IPY_MODEL_226fcfe3e23b4981b9e030c9e80770e0",
              "IPY_MODEL_061239e63b7d4ae1bd873d25c862f3f2"
            ]
          }
        },
        "f4e691c71b034c98baf65021e38b9f29": {
          "model_module": "@jupyter-widgets/base",
          "model_name": "LayoutModel",
          "state": {
            "_view_name": "LayoutView",
            "grid_template_rows": null,
            "right": null,
            "justify_content": null,
            "_view_module": "@jupyter-widgets/base",
            "overflow": null,
            "_model_module_version": "1.2.0",
            "_view_count": null,
            "flex_flow": null,
            "width": null,
            "min_width": null,
            "border": null,
            "align_items": null,
            "bottom": null,
            "_model_module": "@jupyter-widgets/base",
            "top": null,
            "grid_column": null,
            "overflow_y": null,
            "overflow_x": null,
            "grid_auto_flow": null,
            "grid_area": null,
            "grid_template_columns": null,
            "flex": null,
            "_model_name": "LayoutModel",
            "justify_items": null,
            "grid_row": null,
            "max_height": null,
            "align_content": null,
            "visibility": null,
            "align_self": null,
            "height": null,
            "min_height": null,
            "padding": null,
            "grid_auto_rows": null,
            "grid_gap": null,
            "max_width": null,
            "order": null,
            "_view_module_version": "1.2.0",
            "grid_template_areas": null,
            "object_position": null,
            "object_fit": null,
            "grid_auto_columns": null,
            "margin": null,
            "display": null,
            "left": null
          }
        },
        "226fcfe3e23b4981b9e030c9e80770e0": {
          "model_module": "@jupyter-widgets/controls",
          "model_name": "IntProgressModel",
          "state": {
            "_view_name": "ProgressView",
            "style": "IPY_MODEL_7cd9061791a545e68a6ddfc2ef3d3861",
            "_dom_classes": [],
            "description": " 66%",
            "_model_name": "IntProgressModel",
            "bar_style": "danger",
            "max": 25000,
            "_view_module": "@jupyter-widgets/controls",
            "_model_module_version": "1.5.0",
            "value": 16478,
            "_view_count": null,
            "_view_module_version": "1.5.0",
            "orientation": "horizontal",
            "min": 0,
            "description_tooltip": null,
            "_model_module": "@jupyter-widgets/controls",
            "layout": "IPY_MODEL_2cfe137176bc44439f5987bd5d468443"
          }
        },
        "061239e63b7d4ae1bd873d25c862f3f2": {
          "model_module": "@jupyter-widgets/controls",
          "model_name": "HTMLModel",
          "state": {
            "_view_name": "HTMLView",
            "style": "IPY_MODEL_b86254fe2c014f928905f5d472c2d136",
            "_dom_classes": [],
            "description": "",
            "_model_name": "HTMLModel",
            "placeholder": "​",
            "_view_module": "@jupyter-widgets/controls",
            "_model_module_version": "1.5.0",
            "value": " 16478/25000 [00:00&lt;00:00, 164779.76 examples/s]",
            "_view_count": null,
            "_view_module_version": "1.5.0",
            "description_tooltip": null,
            "_model_module": "@jupyter-widgets/controls",
            "layout": "IPY_MODEL_4ba96ae997a7491a966f60be3c29ab4b"
          }
        },
        "7cd9061791a545e68a6ddfc2ef3d3861": {
          "model_module": "@jupyter-widgets/controls",
          "model_name": "ProgressStyleModel",
          "state": {
            "_view_name": "StyleView",
            "_model_name": "ProgressStyleModel",
            "description_width": "initial",
            "_view_module": "@jupyter-widgets/base",
            "_model_module_version": "1.5.0",
            "_view_count": null,
            "_view_module_version": "1.2.0",
            "bar_color": null,
            "_model_module": "@jupyter-widgets/controls"
          }
        },
        "2cfe137176bc44439f5987bd5d468443": {
          "model_module": "@jupyter-widgets/base",
          "model_name": "LayoutModel",
          "state": {
            "_view_name": "LayoutView",
            "grid_template_rows": null,
            "right": null,
            "justify_content": null,
            "_view_module": "@jupyter-widgets/base",
            "overflow": null,
            "_model_module_version": "1.2.0",
            "_view_count": null,
            "flex_flow": null,
            "width": null,
            "min_width": null,
            "border": null,
            "align_items": null,
            "bottom": null,
            "_model_module": "@jupyter-widgets/base",
            "top": null,
            "grid_column": null,
            "overflow_y": null,
            "overflow_x": null,
            "grid_auto_flow": null,
            "grid_area": null,
            "grid_template_columns": null,
            "flex": null,
            "_model_name": "LayoutModel",
            "justify_items": null,
            "grid_row": null,
            "max_height": null,
            "align_content": null,
            "visibility": null,
            "align_self": null,
            "height": null,
            "min_height": null,
            "padding": null,
            "grid_auto_rows": null,
            "grid_gap": null,
            "max_width": null,
            "order": null,
            "_view_module_version": "1.2.0",
            "grid_template_areas": null,
            "object_position": null,
            "object_fit": null,
            "grid_auto_columns": null,
            "margin": null,
            "display": null,
            "left": null
          }
        },
        "b86254fe2c014f928905f5d472c2d136": {
          "model_module": "@jupyter-widgets/controls",
          "model_name": "DescriptionStyleModel",
          "state": {
            "_view_name": "StyleView",
            "_model_name": "DescriptionStyleModel",
            "description_width": "",
            "_view_module": "@jupyter-widgets/base",
            "_model_module_version": "1.5.0",
            "_view_count": null,
            "_view_module_version": "1.2.0",
            "_model_module": "@jupyter-widgets/controls"
          }
        },
        "4ba96ae997a7491a966f60be3c29ab4b": {
          "model_module": "@jupyter-widgets/base",
          "model_name": "LayoutModel",
          "state": {
            "_view_name": "LayoutView",
            "grid_template_rows": null,
            "right": null,
            "justify_content": null,
            "_view_module": "@jupyter-widgets/base",
            "overflow": null,
            "_model_module_version": "1.2.0",
            "_view_count": null,
            "flex_flow": null,
            "width": null,
            "min_width": null,
            "border": null,
            "align_items": null,
            "bottom": null,
            "_model_module": "@jupyter-widgets/base",
            "top": null,
            "grid_column": null,
            "overflow_y": null,
            "overflow_x": null,
            "grid_auto_flow": null,
            "grid_area": null,
            "grid_template_columns": null,
            "flex": null,
            "_model_name": "LayoutModel",
            "justify_items": null,
            "grid_row": null,
            "max_height": null,
            "align_content": null,
            "visibility": null,
            "align_self": null,
            "height": null,
            "min_height": null,
            "padding": null,
            "grid_auto_rows": null,
            "grid_gap": null,
            "max_width": null,
            "order": null,
            "_view_module_version": "1.2.0",
            "grid_template_areas": null,
            "object_position": null,
            "object_fit": null,
            "grid_auto_columns": null,
            "margin": null,
            "display": null,
            "left": null
          }
        },
        "b62936afb08d4dabbb79b5566c7f3576": {
          "model_module": "@jupyter-widgets/controls",
          "model_name": "HBoxModel",
          "state": {
            "_view_name": "HBoxView",
            "_dom_classes": [],
            "_model_name": "HBoxModel",
            "_view_module": "@jupyter-widgets/controls",
            "_model_module_version": "1.5.0",
            "_view_count": null,
            "_view_module_version": "1.5.0",
            "box_style": "",
            "layout": "IPY_MODEL_0d17774d61fe4f4b9df0dc4113b36d6f",
            "_model_module": "@jupyter-widgets/controls",
            "children": [
              "IPY_MODEL_238eda9b9ce44629b6b89335f9243291",
              "IPY_MODEL_90a504611948432fb6d451f836872ab1"
            ]
          }
        },
        "0d17774d61fe4f4b9df0dc4113b36d6f": {
          "model_module": "@jupyter-widgets/base",
          "model_name": "LayoutModel",
          "state": {
            "_view_name": "LayoutView",
            "grid_template_rows": null,
            "right": null,
            "justify_content": null,
            "_view_module": "@jupyter-widgets/base",
            "overflow": null,
            "_model_module_version": "1.2.0",
            "_view_count": null,
            "flex_flow": null,
            "width": null,
            "min_width": null,
            "border": null,
            "align_items": null,
            "bottom": null,
            "_model_module": "@jupyter-widgets/base",
            "top": null,
            "grid_column": null,
            "overflow_y": null,
            "overflow_x": null,
            "grid_auto_flow": null,
            "grid_area": null,
            "grid_template_columns": null,
            "flex": null,
            "_model_name": "LayoutModel",
            "justify_items": null,
            "grid_row": null,
            "max_height": null,
            "align_content": null,
            "visibility": null,
            "align_self": null,
            "height": null,
            "min_height": null,
            "padding": null,
            "grid_auto_rows": null,
            "grid_gap": null,
            "max_width": null,
            "order": null,
            "_view_module_version": "1.2.0",
            "grid_template_areas": null,
            "object_position": null,
            "object_fit": null,
            "grid_auto_columns": null,
            "margin": null,
            "display": null,
            "left": null
          }
        },
        "238eda9b9ce44629b6b89335f9243291": {
          "model_module": "@jupyter-widgets/controls",
          "model_name": "IntProgressModel",
          "state": {
            "_view_name": "ProgressView",
            "style": "IPY_MODEL_344d808ed46542ea8c23774958710a8e",
            "_dom_classes": [],
            "description": "",
            "_model_name": "IntProgressModel",
            "bar_style": "info",
            "max": 1,
            "_view_module": "@jupyter-widgets/controls",
            "_model_module_version": "1.5.0",
            "value": 1,
            "_view_count": null,
            "_view_module_version": "1.5.0",
            "orientation": "horizontal",
            "min": 0,
            "description_tooltip": null,
            "_model_module": "@jupyter-widgets/controls",
            "layout": "IPY_MODEL_0a2b303d9b8643df8f4682fd05412938"
          }
        },
        "90a504611948432fb6d451f836872ab1": {
          "model_module": "@jupyter-widgets/controls",
          "model_name": "HTMLModel",
          "state": {
            "_view_name": "HTMLView",
            "style": "IPY_MODEL_925c316987a84a4c817f3cb29417fa53",
            "_dom_classes": [],
            "description": "",
            "_model_name": "HTMLModel",
            "placeholder": "​",
            "_view_module": "@jupyter-widgets/controls",
            "_model_module_version": "1.5.0",
            "value": " 25000/0 [00:12&lt;00:00, 3563.25 examples/s]",
            "_view_count": null,
            "_view_module_version": "1.5.0",
            "description_tooltip": null,
            "_model_module": "@jupyter-widgets/controls",
            "layout": "IPY_MODEL_80ef8bddc4524727b7bb997212903a08"
          }
        },
        "344d808ed46542ea8c23774958710a8e": {
          "model_module": "@jupyter-widgets/controls",
          "model_name": "ProgressStyleModel",
          "state": {
            "_view_name": "StyleView",
            "_model_name": "ProgressStyleModel",
            "description_width": "initial",
            "_view_module": "@jupyter-widgets/base",
            "_model_module_version": "1.5.0",
            "_view_count": null,
            "_view_module_version": "1.2.0",
            "bar_color": null,
            "_model_module": "@jupyter-widgets/controls"
          }
        },
        "0a2b303d9b8643df8f4682fd05412938": {
          "model_module": "@jupyter-widgets/base",
          "model_name": "LayoutModel",
          "state": {
            "_view_name": "LayoutView",
            "grid_template_rows": null,
            "right": null,
            "justify_content": null,
            "_view_module": "@jupyter-widgets/base",
            "overflow": null,
            "_model_module_version": "1.2.0",
            "_view_count": null,
            "flex_flow": null,
            "width": null,
            "min_width": null,
            "border": null,
            "align_items": null,
            "bottom": null,
            "_model_module": "@jupyter-widgets/base",
            "top": null,
            "grid_column": null,
            "overflow_y": null,
            "overflow_x": null,
            "grid_auto_flow": null,
            "grid_area": null,
            "grid_template_columns": null,
            "flex": null,
            "_model_name": "LayoutModel",
            "justify_items": null,
            "grid_row": null,
            "max_height": null,
            "align_content": null,
            "visibility": null,
            "align_self": null,
            "height": null,
            "min_height": null,
            "padding": null,
            "grid_auto_rows": null,
            "grid_gap": null,
            "max_width": null,
            "order": null,
            "_view_module_version": "1.2.0",
            "grid_template_areas": null,
            "object_position": null,
            "object_fit": null,
            "grid_auto_columns": null,
            "margin": null,
            "display": null,
            "left": null
          }
        },
        "925c316987a84a4c817f3cb29417fa53": {
          "model_module": "@jupyter-widgets/controls",
          "model_name": "DescriptionStyleModel",
          "state": {
            "_view_name": "StyleView",
            "_model_name": "DescriptionStyleModel",
            "description_width": "",
            "_view_module": "@jupyter-widgets/base",
            "_model_module_version": "1.5.0",
            "_view_count": null,
            "_view_module_version": "1.2.0",
            "_model_module": "@jupyter-widgets/controls"
          }
        },
        "80ef8bddc4524727b7bb997212903a08": {
          "model_module": "@jupyter-widgets/base",
          "model_name": "LayoutModel",
          "state": {
            "_view_name": "LayoutView",
            "grid_template_rows": null,
            "right": null,
            "justify_content": null,
            "_view_module": "@jupyter-widgets/base",
            "overflow": null,
            "_model_module_version": "1.2.0",
            "_view_count": null,
            "flex_flow": null,
            "width": null,
            "min_width": null,
            "border": null,
            "align_items": null,
            "bottom": null,
            "_model_module": "@jupyter-widgets/base",
            "top": null,
            "grid_column": null,
            "overflow_y": null,
            "overflow_x": null,
            "grid_auto_flow": null,
            "grid_area": null,
            "grid_template_columns": null,
            "flex": null,
            "_model_name": "LayoutModel",
            "justify_items": null,
            "grid_row": null,
            "max_height": null,
            "align_content": null,
            "visibility": null,
            "align_self": null,
            "height": null,
            "min_height": null,
            "padding": null,
            "grid_auto_rows": null,
            "grid_gap": null,
            "max_width": null,
            "order": null,
            "_view_module_version": "1.2.0",
            "grid_template_areas": null,
            "object_position": null,
            "object_fit": null,
            "grid_auto_columns": null,
            "margin": null,
            "display": null,
            "left": null
          }
        },
        "ce7567b4c3d74b819eceb697c8b644bc": {
          "model_module": "@jupyter-widgets/controls",
          "model_name": "HBoxModel",
          "state": {
            "_view_name": "HBoxView",
            "_dom_classes": [],
            "_model_name": "HBoxModel",
            "_view_module": "@jupyter-widgets/controls",
            "_model_module_version": "1.5.0",
            "_view_count": null,
            "_view_module_version": "1.5.0",
            "box_style": "",
            "layout": "IPY_MODEL_0cc342b12f594e25b52048368737695b",
            "_model_module": "@jupyter-widgets/controls",
            "children": [
              "IPY_MODEL_283ea9aae1bd447eaddbd05bc9fac58e",
              "IPY_MODEL_454b3675cde44dc8a3aa926085570b0c"
            ]
          }
        },
        "0cc342b12f594e25b52048368737695b": {
          "model_module": "@jupyter-widgets/base",
          "model_name": "LayoutModel",
          "state": {
            "_view_name": "LayoutView",
            "grid_template_rows": null,
            "right": null,
            "justify_content": null,
            "_view_module": "@jupyter-widgets/base",
            "overflow": null,
            "_model_module_version": "1.2.0",
            "_view_count": null,
            "flex_flow": null,
            "width": null,
            "min_width": null,
            "border": null,
            "align_items": null,
            "bottom": null,
            "_model_module": "@jupyter-widgets/base",
            "top": null,
            "grid_column": null,
            "overflow_y": null,
            "overflow_x": null,
            "grid_auto_flow": null,
            "grid_area": null,
            "grid_template_columns": null,
            "flex": null,
            "_model_name": "LayoutModel",
            "justify_items": null,
            "grid_row": null,
            "max_height": null,
            "align_content": null,
            "visibility": null,
            "align_self": null,
            "height": null,
            "min_height": null,
            "padding": null,
            "grid_auto_rows": null,
            "grid_gap": null,
            "max_width": null,
            "order": null,
            "_view_module_version": "1.2.0",
            "grid_template_areas": null,
            "object_position": null,
            "object_fit": null,
            "grid_auto_columns": null,
            "margin": null,
            "display": null,
            "left": null
          }
        },
        "283ea9aae1bd447eaddbd05bc9fac58e": {
          "model_module": "@jupyter-widgets/controls",
          "model_name": "IntProgressModel",
          "state": {
            "_view_name": "ProgressView",
            "style": "IPY_MODEL_acf54dba208e4df3a107fa0eb668b3d7",
            "_dom_classes": [],
            "description": " 68%",
            "_model_name": "IntProgressModel",
            "bar_style": "danger",
            "max": 25000,
            "_view_module": "@jupyter-widgets/controls",
            "_model_module_version": "1.5.0",
            "value": 17021,
            "_view_count": null,
            "_view_module_version": "1.5.0",
            "orientation": "horizontal",
            "min": 0,
            "description_tooltip": null,
            "_model_module": "@jupyter-widgets/controls",
            "layout": "IPY_MODEL_2f01d5cd0b124a2bbb18a0fcc75e1447"
          }
        },
        "454b3675cde44dc8a3aa926085570b0c": {
          "model_module": "@jupyter-widgets/controls",
          "model_name": "HTMLModel",
          "state": {
            "_view_name": "HTMLView",
            "style": "IPY_MODEL_f970e94807d54ee6a85dfd8c47686285",
            "_dom_classes": [],
            "description": "",
            "_model_name": "HTMLModel",
            "placeholder": "​",
            "_view_module": "@jupyter-widgets/controls",
            "_model_module_version": "1.5.0",
            "value": " 17021/25000 [00:00&lt;00:00, 170208.54 examples/s]",
            "_view_count": null,
            "_view_module_version": "1.5.0",
            "description_tooltip": null,
            "_model_module": "@jupyter-widgets/controls",
            "layout": "IPY_MODEL_b13f959212ad481192f4bb2e55472bb4"
          }
        },
        "acf54dba208e4df3a107fa0eb668b3d7": {
          "model_module": "@jupyter-widgets/controls",
          "model_name": "ProgressStyleModel",
          "state": {
            "_view_name": "StyleView",
            "_model_name": "ProgressStyleModel",
            "description_width": "initial",
            "_view_module": "@jupyter-widgets/base",
            "_model_module_version": "1.5.0",
            "_view_count": null,
            "_view_module_version": "1.2.0",
            "bar_color": null,
            "_model_module": "@jupyter-widgets/controls"
          }
        },
        "2f01d5cd0b124a2bbb18a0fcc75e1447": {
          "model_module": "@jupyter-widgets/base",
          "model_name": "LayoutModel",
          "state": {
            "_view_name": "LayoutView",
            "grid_template_rows": null,
            "right": null,
            "justify_content": null,
            "_view_module": "@jupyter-widgets/base",
            "overflow": null,
            "_model_module_version": "1.2.0",
            "_view_count": null,
            "flex_flow": null,
            "width": null,
            "min_width": null,
            "border": null,
            "align_items": null,
            "bottom": null,
            "_model_module": "@jupyter-widgets/base",
            "top": null,
            "grid_column": null,
            "overflow_y": null,
            "overflow_x": null,
            "grid_auto_flow": null,
            "grid_area": null,
            "grid_template_columns": null,
            "flex": null,
            "_model_name": "LayoutModel",
            "justify_items": null,
            "grid_row": null,
            "max_height": null,
            "align_content": null,
            "visibility": null,
            "align_self": null,
            "height": null,
            "min_height": null,
            "padding": null,
            "grid_auto_rows": null,
            "grid_gap": null,
            "max_width": null,
            "order": null,
            "_view_module_version": "1.2.0",
            "grid_template_areas": null,
            "object_position": null,
            "object_fit": null,
            "grid_auto_columns": null,
            "margin": null,
            "display": null,
            "left": null
          }
        },
        "f970e94807d54ee6a85dfd8c47686285": {
          "model_module": "@jupyter-widgets/controls",
          "model_name": "DescriptionStyleModel",
          "state": {
            "_view_name": "StyleView",
            "_model_name": "DescriptionStyleModel",
            "description_width": "",
            "_view_module": "@jupyter-widgets/base",
            "_model_module_version": "1.5.0",
            "_view_count": null,
            "_view_module_version": "1.2.0",
            "_model_module": "@jupyter-widgets/controls"
          }
        },
        "b13f959212ad481192f4bb2e55472bb4": {
          "model_module": "@jupyter-widgets/base",
          "model_name": "LayoutModel",
          "state": {
            "_view_name": "LayoutView",
            "grid_template_rows": null,
            "right": null,
            "justify_content": null,
            "_view_module": "@jupyter-widgets/base",
            "overflow": null,
            "_model_module_version": "1.2.0",
            "_view_count": null,
            "flex_flow": null,
            "width": null,
            "min_width": null,
            "border": null,
            "align_items": null,
            "bottom": null,
            "_model_module": "@jupyter-widgets/base",
            "top": null,
            "grid_column": null,
            "overflow_y": null,
            "overflow_x": null,
            "grid_auto_flow": null,
            "grid_area": null,
            "grid_template_columns": null,
            "flex": null,
            "_model_name": "LayoutModel",
            "justify_items": null,
            "grid_row": null,
            "max_height": null,
            "align_content": null,
            "visibility": null,
            "align_self": null,
            "height": null,
            "min_height": null,
            "padding": null,
            "grid_auto_rows": null,
            "grid_gap": null,
            "max_width": null,
            "order": null,
            "_view_module_version": "1.2.0",
            "grid_template_areas": null,
            "object_position": null,
            "object_fit": null,
            "grid_auto_columns": null,
            "margin": null,
            "display": null,
            "left": null
          }
        },
        "161269b7e7a24812865617fea2c7756f": {
          "model_module": "@jupyter-widgets/controls",
          "model_name": "HBoxModel",
          "state": {
            "_view_name": "HBoxView",
            "_dom_classes": [],
            "_model_name": "HBoxModel",
            "_view_module": "@jupyter-widgets/controls",
            "_model_module_version": "1.5.0",
            "_view_count": null,
            "_view_module_version": "1.5.0",
            "box_style": "",
            "layout": "IPY_MODEL_d108053ba538480099f1dadb4d2e99d7",
            "_model_module": "@jupyter-widgets/controls",
            "children": [
              "IPY_MODEL_8838eb8b33da401eb476c69bbe2e34ed",
              "IPY_MODEL_02e17e4babb24cadbd782cdc15555cd8"
            ]
          }
        },
        "d108053ba538480099f1dadb4d2e99d7": {
          "model_module": "@jupyter-widgets/base",
          "model_name": "LayoutModel",
          "state": {
            "_view_name": "LayoutView",
            "grid_template_rows": null,
            "right": null,
            "justify_content": null,
            "_view_module": "@jupyter-widgets/base",
            "overflow": null,
            "_model_module_version": "1.2.0",
            "_view_count": null,
            "flex_flow": null,
            "width": null,
            "min_width": null,
            "border": null,
            "align_items": null,
            "bottom": null,
            "_model_module": "@jupyter-widgets/base",
            "top": null,
            "grid_column": null,
            "overflow_y": null,
            "overflow_x": null,
            "grid_auto_flow": null,
            "grid_area": null,
            "grid_template_columns": null,
            "flex": null,
            "_model_name": "LayoutModel",
            "justify_items": null,
            "grid_row": null,
            "max_height": null,
            "align_content": null,
            "visibility": null,
            "align_self": null,
            "height": null,
            "min_height": null,
            "padding": null,
            "grid_auto_rows": null,
            "grid_gap": null,
            "max_width": null,
            "order": null,
            "_view_module_version": "1.2.0",
            "grid_template_areas": null,
            "object_position": null,
            "object_fit": null,
            "grid_auto_columns": null,
            "margin": null,
            "display": null,
            "left": null
          }
        },
        "8838eb8b33da401eb476c69bbe2e34ed": {
          "model_module": "@jupyter-widgets/controls",
          "model_name": "IntProgressModel",
          "state": {
            "_view_name": "ProgressView",
            "style": "IPY_MODEL_e4b71264e4194b25a1fe4c3b7fa37573",
            "_dom_classes": [],
            "description": "",
            "_model_name": "IntProgressModel",
            "bar_style": "info",
            "max": 1,
            "_view_module": "@jupyter-widgets/controls",
            "_model_module_version": "1.5.0",
            "value": 1,
            "_view_count": null,
            "_view_module_version": "1.5.0",
            "orientation": "horizontal",
            "min": 0,
            "description_tooltip": null,
            "_model_module": "@jupyter-widgets/controls",
            "layout": "IPY_MODEL_8a04bfb5f3c444a68dd22ff36d49eb67"
          }
        },
        "02e17e4babb24cadbd782cdc15555cd8": {
          "model_module": "@jupyter-widgets/controls",
          "model_name": "HTMLModel",
          "state": {
            "_view_name": "HTMLView",
            "style": "IPY_MODEL_2e34a27447e04994bb38c81bbe2aad64",
            "_dom_classes": [],
            "description": "",
            "_model_name": "HTMLModel",
            "placeholder": "​",
            "_view_module": "@jupyter-widgets/controls",
            "_model_module_version": "1.5.0",
            "value": " 50000/0 [00:17&lt;00:00, 3420.94 examples/s]",
            "_view_count": null,
            "_view_module_version": "1.5.0",
            "description_tooltip": null,
            "_model_module": "@jupyter-widgets/controls",
            "layout": "IPY_MODEL_510b6a59cc814a6e808fc23e89a47087"
          }
        },
        "e4b71264e4194b25a1fe4c3b7fa37573": {
          "model_module": "@jupyter-widgets/controls",
          "model_name": "ProgressStyleModel",
          "state": {
            "_view_name": "StyleView",
            "_model_name": "ProgressStyleModel",
            "description_width": "initial",
            "_view_module": "@jupyter-widgets/base",
            "_model_module_version": "1.5.0",
            "_view_count": null,
            "_view_module_version": "1.2.0",
            "bar_color": null,
            "_model_module": "@jupyter-widgets/controls"
          }
        },
        "8a04bfb5f3c444a68dd22ff36d49eb67": {
          "model_module": "@jupyter-widgets/base",
          "model_name": "LayoutModel",
          "state": {
            "_view_name": "LayoutView",
            "grid_template_rows": null,
            "right": null,
            "justify_content": null,
            "_view_module": "@jupyter-widgets/base",
            "overflow": null,
            "_model_module_version": "1.2.0",
            "_view_count": null,
            "flex_flow": null,
            "width": null,
            "min_width": null,
            "border": null,
            "align_items": null,
            "bottom": null,
            "_model_module": "@jupyter-widgets/base",
            "top": null,
            "grid_column": null,
            "overflow_y": null,
            "overflow_x": null,
            "grid_auto_flow": null,
            "grid_area": null,
            "grid_template_columns": null,
            "flex": null,
            "_model_name": "LayoutModel",
            "justify_items": null,
            "grid_row": null,
            "max_height": null,
            "align_content": null,
            "visibility": null,
            "align_self": null,
            "height": null,
            "min_height": null,
            "padding": null,
            "grid_auto_rows": null,
            "grid_gap": null,
            "max_width": null,
            "order": null,
            "_view_module_version": "1.2.0",
            "grid_template_areas": null,
            "object_position": null,
            "object_fit": null,
            "grid_auto_columns": null,
            "margin": null,
            "display": null,
            "left": null
          }
        },
        "2e34a27447e04994bb38c81bbe2aad64": {
          "model_module": "@jupyter-widgets/controls",
          "model_name": "DescriptionStyleModel",
          "state": {
            "_view_name": "StyleView",
            "_model_name": "DescriptionStyleModel",
            "description_width": "",
            "_view_module": "@jupyter-widgets/base",
            "_model_module_version": "1.5.0",
            "_view_count": null,
            "_view_module_version": "1.2.0",
            "_model_module": "@jupyter-widgets/controls"
          }
        },
        "510b6a59cc814a6e808fc23e89a47087": {
          "model_module": "@jupyter-widgets/base",
          "model_name": "LayoutModel",
          "state": {
            "_view_name": "LayoutView",
            "grid_template_rows": null,
            "right": null,
            "justify_content": null,
            "_view_module": "@jupyter-widgets/base",
            "overflow": null,
            "_model_module_version": "1.2.0",
            "_view_count": null,
            "flex_flow": null,
            "width": null,
            "min_width": null,
            "border": null,
            "align_items": null,
            "bottom": null,
            "_model_module": "@jupyter-widgets/base",
            "top": null,
            "grid_column": null,
            "overflow_y": null,
            "overflow_x": null,
            "grid_auto_flow": null,
            "grid_area": null,
            "grid_template_columns": null,
            "flex": null,
            "_model_name": "LayoutModel",
            "justify_items": null,
            "grid_row": null,
            "max_height": null,
            "align_content": null,
            "visibility": null,
            "align_self": null,
            "height": null,
            "min_height": null,
            "padding": null,
            "grid_auto_rows": null,
            "grid_gap": null,
            "max_width": null,
            "order": null,
            "_view_module_version": "1.2.0",
            "grid_template_areas": null,
            "object_position": null,
            "object_fit": null,
            "grid_auto_columns": null,
            "margin": null,
            "display": null,
            "left": null
          }
        },
        "4331199e249c4d13a5ddd8222a95daa7": {
          "model_module": "@jupyter-widgets/controls",
          "model_name": "HBoxModel",
          "state": {
            "_view_name": "HBoxView",
            "_dom_classes": [],
            "_model_name": "HBoxModel",
            "_view_module": "@jupyter-widgets/controls",
            "_model_module_version": "1.5.0",
            "_view_count": null,
            "_view_module_version": "1.5.0",
            "box_style": "",
            "layout": "IPY_MODEL_a1dc27a1b7dc4e278802c5725967a900",
            "_model_module": "@jupyter-widgets/controls",
            "children": [
              "IPY_MODEL_5ed6baf7270e4811b97fac64473beb6f",
              "IPY_MODEL_2013ab0e20a64c128cfd1c4a95b128fc"
            ]
          }
        },
        "a1dc27a1b7dc4e278802c5725967a900": {
          "model_module": "@jupyter-widgets/base",
          "model_name": "LayoutModel",
          "state": {
            "_view_name": "LayoutView",
            "grid_template_rows": null,
            "right": null,
            "justify_content": null,
            "_view_module": "@jupyter-widgets/base",
            "overflow": null,
            "_model_module_version": "1.2.0",
            "_view_count": null,
            "flex_flow": null,
            "width": null,
            "min_width": null,
            "border": null,
            "align_items": null,
            "bottom": null,
            "_model_module": "@jupyter-widgets/base",
            "top": null,
            "grid_column": null,
            "overflow_y": null,
            "overflow_x": null,
            "grid_auto_flow": null,
            "grid_area": null,
            "grid_template_columns": null,
            "flex": null,
            "_model_name": "LayoutModel",
            "justify_items": null,
            "grid_row": null,
            "max_height": null,
            "align_content": null,
            "visibility": null,
            "align_self": null,
            "height": null,
            "min_height": null,
            "padding": null,
            "grid_auto_rows": null,
            "grid_gap": null,
            "max_width": null,
            "order": null,
            "_view_module_version": "1.2.0",
            "grid_template_areas": null,
            "object_position": null,
            "object_fit": null,
            "grid_auto_columns": null,
            "margin": null,
            "display": null,
            "left": null
          }
        },
        "5ed6baf7270e4811b97fac64473beb6f": {
          "model_module": "@jupyter-widgets/controls",
          "model_name": "IntProgressModel",
          "state": {
            "_view_name": "ProgressView",
            "style": "IPY_MODEL_65deb00e44e3472c8111012427f9e19a",
            "_dom_classes": [],
            "description": " 74%",
            "_model_name": "IntProgressModel",
            "bar_style": "danger",
            "max": 50000,
            "_view_module": "@jupyter-widgets/controls",
            "_model_module_version": "1.5.0",
            "value": 36798,
            "_view_count": null,
            "_view_module_version": "1.5.0",
            "orientation": "horizontal",
            "min": 0,
            "description_tooltip": null,
            "_model_module": "@jupyter-widgets/controls",
            "layout": "IPY_MODEL_e3da5e21ab9f45dba4ea120bf10e50f8"
          }
        },
        "2013ab0e20a64c128cfd1c4a95b128fc": {
          "model_module": "@jupyter-widgets/controls",
          "model_name": "HTMLModel",
          "state": {
            "_view_name": "HTMLView",
            "style": "IPY_MODEL_b0debe7549ad4ae1a604c500a6941154",
            "_dom_classes": [],
            "description": "",
            "_model_name": "HTMLModel",
            "placeholder": "​",
            "_view_module": "@jupyter-widgets/controls",
            "_model_module_version": "1.5.0",
            "value": " 36798/50000 [00:06&lt;00:00, 90687.91 examples/s]",
            "_view_count": null,
            "_view_module_version": "1.5.0",
            "description_tooltip": null,
            "_model_module": "@jupyter-widgets/controls",
            "layout": "IPY_MODEL_ab58e358c9e84b2f9061d621a78552fe"
          }
        },
        "65deb00e44e3472c8111012427f9e19a": {
          "model_module": "@jupyter-widgets/controls",
          "model_name": "ProgressStyleModel",
          "state": {
            "_view_name": "StyleView",
            "_model_name": "ProgressStyleModel",
            "description_width": "initial",
            "_view_module": "@jupyter-widgets/base",
            "_model_module_version": "1.5.0",
            "_view_count": null,
            "_view_module_version": "1.2.0",
            "bar_color": null,
            "_model_module": "@jupyter-widgets/controls"
          }
        },
        "e3da5e21ab9f45dba4ea120bf10e50f8": {
          "model_module": "@jupyter-widgets/base",
          "model_name": "LayoutModel",
          "state": {
            "_view_name": "LayoutView",
            "grid_template_rows": null,
            "right": null,
            "justify_content": null,
            "_view_module": "@jupyter-widgets/base",
            "overflow": null,
            "_model_module_version": "1.2.0",
            "_view_count": null,
            "flex_flow": null,
            "width": null,
            "min_width": null,
            "border": null,
            "align_items": null,
            "bottom": null,
            "_model_module": "@jupyter-widgets/base",
            "top": null,
            "grid_column": null,
            "overflow_y": null,
            "overflow_x": null,
            "grid_auto_flow": null,
            "grid_area": null,
            "grid_template_columns": null,
            "flex": null,
            "_model_name": "LayoutModel",
            "justify_items": null,
            "grid_row": null,
            "max_height": null,
            "align_content": null,
            "visibility": null,
            "align_self": null,
            "height": null,
            "min_height": null,
            "padding": null,
            "grid_auto_rows": null,
            "grid_gap": null,
            "max_width": null,
            "order": null,
            "_view_module_version": "1.2.0",
            "grid_template_areas": null,
            "object_position": null,
            "object_fit": null,
            "grid_auto_columns": null,
            "margin": null,
            "display": null,
            "left": null
          }
        },
        "b0debe7549ad4ae1a604c500a6941154": {
          "model_module": "@jupyter-widgets/controls",
          "model_name": "DescriptionStyleModel",
          "state": {
            "_view_name": "StyleView",
            "_model_name": "DescriptionStyleModel",
            "description_width": "",
            "_view_module": "@jupyter-widgets/base",
            "_model_module_version": "1.5.0",
            "_view_count": null,
            "_view_module_version": "1.2.0",
            "_model_module": "@jupyter-widgets/controls"
          }
        },
        "ab58e358c9e84b2f9061d621a78552fe": {
          "model_module": "@jupyter-widgets/base",
          "model_name": "LayoutModel",
          "state": {
            "_view_name": "LayoutView",
            "grid_template_rows": null,
            "right": null,
            "justify_content": null,
            "_view_module": "@jupyter-widgets/base",
            "overflow": null,
            "_model_module_version": "1.2.0",
            "_view_count": null,
            "flex_flow": null,
            "width": null,
            "min_width": null,
            "border": null,
            "align_items": null,
            "bottom": null,
            "_model_module": "@jupyter-widgets/base",
            "top": null,
            "grid_column": null,
            "overflow_y": null,
            "overflow_x": null,
            "grid_auto_flow": null,
            "grid_area": null,
            "grid_template_columns": null,
            "flex": null,
            "_model_name": "LayoutModel",
            "justify_items": null,
            "grid_row": null,
            "max_height": null,
            "align_content": null,
            "visibility": null,
            "align_self": null,
            "height": null,
            "min_height": null,
            "padding": null,
            "grid_auto_rows": null,
            "grid_gap": null,
            "max_width": null,
            "order": null,
            "_view_module_version": "1.2.0",
            "grid_template_areas": null,
            "object_position": null,
            "object_fit": null,
            "grid_auto_columns": null,
            "margin": null,
            "display": null,
            "left": null
          }
        }
      }
    }
  },
  "cells": [
    {
      "cell_type": "markdown",
      "metadata": {
        "id": "view-in-github",
        "colab_type": "text"
      },
      "source": [
        "<a href=\"https://colab.research.google.com/github/highjump119/NN/blob/master/Tensorflow2.ipynb\" target=\"_parent\"><img src=\"https://colab.research.google.com/assets/colab-badge.svg\" alt=\"Open In Colab\"/></a>"
      ]
    },
    {
      "cell_type": "code",
      "metadata": {
        "id": "UAtAz__n4zdU",
        "colab_type": "code",
        "colab": {
          "base_uri": "https://localhost:8080/",
          "height": 107
        },
        "outputId": "e40743b2-93e3-452b-ff47-e10d047e415e"
      },
      "source": [
        "import numpy as np\n",
        "\n",
        "import tensorflow as tf\n",
        "\n",
        "!pip install -q tensorflow-hub\n",
        "!pip install -q tfds-nightly\n",
        "import tensorflow_hub as hub\n",
        "import tensorflow_datasets as tfds\n",
        "\n",
        "print(\"Version: \", tf.__version__)\n",
        "print(\"Eager mode: \", tf.executing_eagerly())\n",
        "print(\"Hub version: \", hub.__version__)\n",
        "print(\"GPU is\", \"available\" if tf.config.experimental.list_physical_devices(\"GPU\") else \"NOT AVAILABLE\")"
      ],
      "execution_count": 1,
      "outputs": [
        {
          "output_type": "stream",
          "text": [
            "\u001b[?25l\r\u001b[K     |                                | 10kB 30.6MB/s eta 0:00:01\r\u001b[K     |▏                               | 20kB 39.2MB/s eta 0:00:01\r\u001b[K     |▎                               | 30kB 45.0MB/s eta 0:00:01\r\u001b[K     |▍                               | 40kB 41.9MB/s eta 0:00:01\r\u001b[K     |▌                               | 51kB 32.3MB/s eta 0:00:01\r\u001b[K     |▋                               | 61kB 19.7MB/s eta 0:00:01\r\u001b[K     |▊                               | 71kB 19.7MB/s eta 0:00:01\r\u001b[K     |▉                               | 81kB 19.3MB/s eta 0:00:01\r\u001b[K     |█                               | 92kB 16.9MB/s eta 0:00:01\r\u001b[K     |█                               | 102kB 16.8MB/s eta 0:00:01\r\u001b[K     |█                               | 112kB 16.8MB/s eta 0:00:01\r\u001b[K     |█▏                              | 122kB 16.8MB/s eta 0:00:01\r\u001b[K     |█▎                              | 133kB 16.8MB/s eta 0:00:01\r\u001b[K     |█▍                              | 143kB 16.8MB/s eta 0:00:01\r\u001b[K     |█▌                              | 153kB 16.8MB/s eta 0:00:01\r\u001b[K     |█▋                              | 163kB 16.8MB/s eta 0:00:01\r\u001b[K     |█▊                              | 174kB 16.8MB/s eta 0:00:01\r\u001b[K     |█▉                              | 184kB 16.8MB/s eta 0:00:01\r\u001b[K     |██                              | 194kB 16.8MB/s eta 0:00:01\r\u001b[K     |██                              | 204kB 16.8MB/s eta 0:00:01\r\u001b[K     |██                              | 215kB 16.8MB/s eta 0:00:01\r\u001b[K     |██▏                             | 225kB 16.8MB/s eta 0:00:01\r\u001b[K     |██▎                             | 235kB 16.8MB/s eta 0:00:01\r\u001b[K     |██▍                             | 245kB 16.8MB/s eta 0:00:01\r\u001b[K     |██▌                             | 256kB 16.8MB/s eta 0:00:01\r\u001b[K     |██▋                             | 266kB 16.8MB/s eta 0:00:01\r\u001b[K     |██▊                             | 276kB 16.8MB/s eta 0:00:01\r\u001b[K     |██▉                             | 286kB 16.8MB/s eta 0:00:01\r\u001b[K     |██▉                             | 296kB 16.8MB/s eta 0:00:01\r\u001b[K     |███                             | 307kB 16.8MB/s eta 0:00:01\r\u001b[K     |███                             | 317kB 16.8MB/s eta 0:00:01\r\u001b[K     |███▏                            | 327kB 16.8MB/s eta 0:00:01\r\u001b[K     |███▎                            | 337kB 16.8MB/s eta 0:00:01\r\u001b[K     |███▍                            | 348kB 16.8MB/s eta 0:00:01\r\u001b[K     |███▌                            | 358kB 16.8MB/s eta 0:00:01\r\u001b[K     |███▋                            | 368kB 16.8MB/s eta 0:00:01\r\u001b[K     |███▊                            | 378kB 16.8MB/s eta 0:00:01\r\u001b[K     |███▉                            | 389kB 16.8MB/s eta 0:00:01\r\u001b[K     |███▉                            | 399kB 16.8MB/s eta 0:00:01\r\u001b[K     |████                            | 409kB 16.8MB/s eta 0:00:01\r\u001b[K     |████                            | 419kB 16.8MB/s eta 0:00:01\r\u001b[K     |████▏                           | 430kB 16.8MB/s eta 0:00:01\r\u001b[K     |████▎                           | 440kB 16.8MB/s eta 0:00:01\r\u001b[K     |████▍                           | 450kB 16.8MB/s eta 0:00:01\r\u001b[K     |████▌                           | 460kB 16.8MB/s eta 0:00:01\r\u001b[K     |████▋                           | 471kB 16.8MB/s eta 0:00:01\r\u001b[K     |████▊                           | 481kB 16.8MB/s eta 0:00:01\r\u001b[K     |████▊                           | 491kB 16.8MB/s eta 0:00:01\r\u001b[K     |████▉                           | 501kB 16.8MB/s eta 0:00:01\r\u001b[K     |█████                           | 512kB 16.8MB/s eta 0:00:01\r\u001b[K     |█████                           | 522kB 16.8MB/s eta 0:00:01\r\u001b[K     |█████▏                          | 532kB 16.8MB/s eta 0:00:01\r\u001b[K     |█████▎                          | 542kB 16.8MB/s eta 0:00:01\r\u001b[K     |█████▍                          | 552kB 16.8MB/s eta 0:00:01\r\u001b[K     |█████▌                          | 563kB 16.8MB/s eta 0:00:01\r\u001b[K     |█████▋                          | 573kB 16.8MB/s eta 0:00:01\r\u001b[K     |█████▊                          | 583kB 16.8MB/s eta 0:00:01\r\u001b[K     |█████▊                          | 593kB 16.8MB/s eta 0:00:01\r\u001b[K     |█████▉                          | 604kB 16.8MB/s eta 0:00:01\r\u001b[K     |██████                          | 614kB 16.8MB/s eta 0:00:01\r\u001b[K     |██████                          | 624kB 16.8MB/s eta 0:00:01\r\u001b[K     |██████▏                         | 634kB 16.8MB/s eta 0:00:01\r\u001b[K     |██████▎                         | 645kB 16.8MB/s eta 0:00:01\r\u001b[K     |██████▍                         | 655kB 16.8MB/s eta 0:00:01\r\u001b[K     |██████▌                         | 665kB 16.8MB/s eta 0:00:01\r\u001b[K     |██████▋                         | 675kB 16.8MB/s eta 0:00:01\r\u001b[K     |██████▋                         | 686kB 16.8MB/s eta 0:00:01\r\u001b[K     |██████▊                         | 696kB 16.8MB/s eta 0:00:01\r\u001b[K     |██████▉                         | 706kB 16.8MB/s eta 0:00:01\r\u001b[K     |███████                         | 716kB 16.8MB/s eta 0:00:01\r\u001b[K     |███████                         | 727kB 16.8MB/s eta 0:00:01\r\u001b[K     |███████▏                        | 737kB 16.8MB/s eta 0:00:01\r\u001b[K     |███████▎                        | 747kB 16.8MB/s eta 0:00:01\r\u001b[K     |███████▍                        | 757kB 16.8MB/s eta 0:00:01\r\u001b[K     |███████▌                        | 768kB 16.8MB/s eta 0:00:01\r\u001b[K     |███████▋                        | 778kB 16.8MB/s eta 0:00:01\r\u001b[K     |███████▋                        | 788kB 16.8MB/s eta 0:00:01\r\u001b[K     |███████▊                        | 798kB 16.8MB/s eta 0:00:01\r\u001b[K     |███████▉                        | 808kB 16.8MB/s eta 0:00:01\r\u001b[K     |████████                        | 819kB 16.8MB/s eta 0:00:01\r\u001b[K     |████████                        | 829kB 16.8MB/s eta 0:00:01\r\u001b[K     |████████▏                       | 839kB 16.8MB/s eta 0:00:01\r\u001b[K     |████████▎                       | 849kB 16.8MB/s eta 0:00:01\r\u001b[K     |████████▍                       | 860kB 16.8MB/s eta 0:00:01\r\u001b[K     |████████▌                       | 870kB 16.8MB/s eta 0:00:01\r\u001b[K     |████████▌                       | 880kB 16.8MB/s eta 0:00:01\r\u001b[K     |████████▋                       | 890kB 16.8MB/s eta 0:00:01\r\u001b[K     |████████▊                       | 901kB 16.8MB/s eta 0:00:01\r\u001b[K     |████████▉                       | 911kB 16.8MB/s eta 0:00:01\r\u001b[K     |█████████                       | 921kB 16.8MB/s eta 0:00:01\r\u001b[K     |█████████                       | 931kB 16.8MB/s eta 0:00:01\r\u001b[K     |█████████▏                      | 942kB 16.8MB/s eta 0:00:01\r\u001b[K     |█████████▎                      | 952kB 16.8MB/s eta 0:00:01\r\u001b[K     |█████████▍                      | 962kB 16.8MB/s eta 0:00:01\r\u001b[K     |█████████▌                      | 972kB 16.8MB/s eta 0:00:01\r\u001b[K     |█████████▌                      | 983kB 16.8MB/s eta 0:00:01\r\u001b[K     |█████████▋                      | 993kB 16.8MB/s eta 0:00:01\r\u001b[K     |█████████▊                      | 1.0MB 16.8MB/s eta 0:00:01\r\u001b[K     |█████████▉                      | 1.0MB 16.8MB/s eta 0:00:01\r\u001b[K     |██████████                      | 1.0MB 16.8MB/s eta 0:00:01\r\u001b[K     |██████████                      | 1.0MB 16.8MB/s eta 0:00:01\r\u001b[K     |██████████▏                     | 1.0MB 16.8MB/s eta 0:00:01\r\u001b[K     |██████████▎                     | 1.1MB 16.8MB/s eta 0:00:01\r\u001b[K     |██████████▍                     | 1.1MB 16.8MB/s eta 0:00:01\r\u001b[K     |██████████▍                     | 1.1MB 16.8MB/s eta 0:00:01\r\u001b[K     |██████████▌                     | 1.1MB 16.8MB/s eta 0:00:01\r\u001b[K     |██████████▋                     | 1.1MB 16.8MB/s eta 0:00:01\r\u001b[K     |██████████▊                     | 1.1MB 16.8MB/s eta 0:00:01\r\u001b[K     |██████████▉                     | 1.1MB 16.8MB/s eta 0:00:01\r\u001b[K     |███████████                     | 1.1MB 16.8MB/s eta 0:00:01\r\u001b[K     |███████████                     | 1.1MB 16.8MB/s eta 0:00:01\r\u001b[K     |███████████▏                    | 1.1MB 16.8MB/s eta 0:00:01\r\u001b[K     |███████████▎                    | 1.2MB 16.8MB/s eta 0:00:01\r\u001b[K     |███████████▍                    | 1.2MB 16.8MB/s eta 0:00:01\r\u001b[K     |███████████▍                    | 1.2MB 16.8MB/s eta 0:00:01\r\u001b[K     |███████████▌                    | 1.2MB 16.8MB/s eta 0:00:01\r\u001b[K     |███████████▋                    | 1.2MB 16.8MB/s eta 0:00:01\r\u001b[K     |███████████▊                    | 1.2MB 16.8MB/s eta 0:00:01\r\u001b[K     |███████████▉                    | 1.2MB 16.8MB/s eta 0:00:01\r\u001b[K     |████████████                    | 1.2MB 16.8MB/s eta 0:00:01\r\u001b[K     |████████████                    | 1.2MB 16.8MB/s eta 0:00:01\r\u001b[K     |████████████▏                   | 1.2MB 16.8MB/s eta 0:00:01\r\u001b[K     |████████████▎                   | 1.3MB 16.8MB/s eta 0:00:01\r\u001b[K     |████████████▎                   | 1.3MB 16.8MB/s eta 0:00:01\r\u001b[K     |████████████▍                   | 1.3MB 16.8MB/s eta 0:00:01\r\u001b[K     |████████████▌                   | 1.3MB 16.8MB/s eta 0:00:01\r\u001b[K     |████████████▋                   | 1.3MB 16.8MB/s eta 0:00:01\r\u001b[K     |████████████▊                   | 1.3MB 16.8MB/s eta 0:00:01\r\u001b[K     |████████████▉                   | 1.3MB 16.8MB/s eta 0:00:01\r\u001b[K     |█████████████                   | 1.3MB 16.8MB/s eta 0:00:01\r\u001b[K     |█████████████                   | 1.3MB 16.8MB/s eta 0:00:01\r\u001b[K     |█████████████▏                  | 1.4MB 16.8MB/s eta 0:00:01\r\u001b[K     |█████████████▎                  | 1.4MB 16.8MB/s eta 0:00:01\r\u001b[K     |█████████████▎                  | 1.4MB 16.8MB/s eta 0:00:01\r\u001b[K     |█████████████▍                  | 1.4MB 16.8MB/s eta 0:00:01\r\u001b[K     |█████████████▌                  | 1.4MB 16.8MB/s eta 0:00:01\r\u001b[K     |█████████████▋                  | 1.4MB 16.8MB/s eta 0:00:01\r\u001b[K     |█████████████▊                  | 1.4MB 16.8MB/s eta 0:00:01\r\u001b[K     |█████████████▉                  | 1.4MB 16.8MB/s eta 0:00:01\r\u001b[K     |██████████████                  | 1.4MB 16.8MB/s eta 0:00:01\r\u001b[K     |██████████████                  | 1.4MB 16.8MB/s eta 0:00:01\r\u001b[K     |██████████████▏                 | 1.5MB 16.8MB/s eta 0:00:01\r\u001b[K     |██████████████▏                 | 1.5MB 16.8MB/s eta 0:00:01\r\u001b[K     |██████████████▎                 | 1.5MB 16.8MB/s eta 0:00:01\r\u001b[K     |██████████████▍                 | 1.5MB 16.8MB/s eta 0:00:01\r\u001b[K     |██████████████▌                 | 1.5MB 16.8MB/s eta 0:00:01\r\u001b[K     |██████████████▋                 | 1.5MB 16.8MB/s eta 0:00:01\r\u001b[K     |██████████████▊                 | 1.5MB 16.8MB/s eta 0:00:01\r\u001b[K     |██████████████▉                 | 1.5MB 16.8MB/s eta 0:00:01\r\u001b[K     |███████████████                 | 1.5MB 16.8MB/s eta 0:00:01\r\u001b[K     |███████████████                 | 1.5MB 16.8MB/s eta 0:00:01\r\u001b[K     |███████████████▏                | 1.6MB 16.8MB/s eta 0:00:01\r\u001b[K     |███████████████▏                | 1.6MB 16.8MB/s eta 0:00:01\r\u001b[K     |███████████████▎                | 1.6MB 16.8MB/s eta 0:00:01\r\u001b[K     |███████████████▍                | 1.6MB 16.8MB/s eta 0:00:01\r\u001b[K     |███████████████▌                | 1.6MB 16.8MB/s eta 0:00:01\r\u001b[K     |███████████████▋                | 1.6MB 16.8MB/s eta 0:00:01\r\u001b[K     |███████████████▊                | 1.6MB 16.8MB/s eta 0:00:01\r\u001b[K     |███████████████▉                | 1.6MB 16.8MB/s eta 0:00:01\r\u001b[K     |████████████████                | 1.6MB 16.8MB/s eta 0:00:01\r\u001b[K     |████████████████                | 1.6MB 16.8MB/s eta 0:00:01\r\u001b[K     |████████████████                | 1.7MB 16.8MB/s eta 0:00:01\r\u001b[K     |████████████████▏               | 1.7MB 16.8MB/s eta 0:00:01\r\u001b[K     |████████████████▎               | 1.7MB 16.8MB/s eta 0:00:01\r\u001b[K     |████████████████▍               | 1.7MB 16.8MB/s eta 0:00:01\r\u001b[K     |████████████████▌               | 1.7MB 16.8MB/s eta 0:00:01\r\u001b[K     |████████████████▋               | 1.7MB 16.8MB/s eta 0:00:01\r\u001b[K     |████████████████▊               | 1.7MB 16.8MB/s eta 0:00:01\r\u001b[K     |████████████████▉               | 1.7MB 16.8MB/s eta 0:00:01\r\u001b[K     |█████████████████               | 1.7MB 16.8MB/s eta 0:00:01\r\u001b[K     |█████████████████               | 1.8MB 16.8MB/s eta 0:00:01\r\u001b[K     |█████████████████               | 1.8MB 16.8MB/s eta 0:00:01\r\u001b[K     |█████████████████▏              | 1.8MB 16.8MB/s eta 0:00:01\r\u001b[K     |█████████████████▎              | 1.8MB 16.8MB/s eta 0:00:01\r\u001b[K     |█████████████████▍              | 1.8MB 16.8MB/s eta 0:00:01\r\u001b[K     |█████████████████▌              | 1.8MB 16.8MB/s eta 0:00:01\r\u001b[K     |█████████████████▋              | 1.8MB 16.8MB/s eta 0:00:01\r\u001b[K     |█████████████████▊              | 1.8MB 16.8MB/s eta 0:00:01\r\u001b[K     |█████████████████▉              | 1.8MB 16.8MB/s eta 0:00:01\r\u001b[K     |██████████████████              | 1.8MB 16.8MB/s eta 0:00:01\r\u001b[K     |██████████████████              | 1.9MB 16.8MB/s eta 0:00:01\r\u001b[K     |██████████████████              | 1.9MB 16.8MB/s eta 0:00:01\r\u001b[K     |██████████████████▏             | 1.9MB 16.8MB/s eta 0:00:01\r\u001b[K     |██████████████████▎             | 1.9MB 16.8MB/s eta 0:00:01\r\u001b[K     |██████████████████▍             | 1.9MB 16.8MB/s eta 0:00:01\r\u001b[K     |██████████████████▌             | 1.9MB 16.8MB/s eta 0:00:01\r\u001b[K     |██████████████████▋             | 1.9MB 16.8MB/s eta 0:00:01\r\u001b[K     |██████████████████▊             | 1.9MB 16.8MB/s eta 0:00:01\r\u001b[K     |██████████████████▉             | 1.9MB 16.8MB/s eta 0:00:01\r\u001b[K     |███████████████████             | 1.9MB 16.8MB/s eta 0:00:01\r\u001b[K     |███████████████████             | 2.0MB 16.8MB/s eta 0:00:01\r\u001b[K     |███████████████████             | 2.0MB 16.8MB/s eta 0:00:01\r\u001b[K     |███████████████████▏            | 2.0MB 16.8MB/s eta 0:00:01\r\u001b[K     |███████████████████▎            | 2.0MB 16.8MB/s eta 0:00:01\r\u001b[K     |███████████████████▍            | 2.0MB 16.8MB/s eta 0:00:01\r\u001b[K     |███████████████████▌            | 2.0MB 16.8MB/s eta 0:00:01\r\u001b[K     |███████████████████▋            | 2.0MB 16.8MB/s eta 0:00:01\r\u001b[K     |███████████████████▊            | 2.0MB 16.8MB/s eta 0:00:01\r\u001b[K     |███████████████████▉            | 2.0MB 16.8MB/s eta 0:00:01\r\u001b[K     |███████████████████▉            | 2.0MB 16.8MB/s eta 0:00:01\r\u001b[K     |████████████████████            | 2.1MB 16.8MB/s eta 0:00:01\r\u001b[K     |████████████████████            | 2.1MB 16.8MB/s eta 0:00:01\r\u001b[K     |████████████████████▏           | 2.1MB 16.8MB/s eta 0:00:01\r\u001b[K     |████████████████████▎           | 2.1MB 16.8MB/s eta 0:00:01\r\u001b[K     |████████████████████▍           | 2.1MB 16.8MB/s eta 0:00:01\r\u001b[K     |████████████████████▌           | 2.1MB 16.8MB/s eta 0:00:01\r\u001b[K     |████████████████████▋           | 2.1MB 16.8MB/s eta 0:00:01\r\u001b[K     |████████████████████▊           | 2.1MB 16.8MB/s eta 0:00:01\r\u001b[K     |████████████████████▉           | 2.1MB 16.8MB/s eta 0:00:01\r\u001b[K     |████████████████████▉           | 2.2MB 16.8MB/s eta 0:00:01\r\u001b[K     |█████████████████████           | 2.2MB 16.8MB/s eta 0:00:01\r\u001b[K     |█████████████████████           | 2.2MB 16.8MB/s eta 0:00:01\r\u001b[K     |█████████████████████▏          | 2.2MB 16.8MB/s eta 0:00:01\r\u001b[K     |█████████████████████▎          | 2.2MB 16.8MB/s eta 0:00:01\r\u001b[K     |█████████████████████▍          | 2.2MB 16.8MB/s eta 0:00:01\r\u001b[K     |█████████████████████▌          | 2.2MB 16.8MB/s eta 0:00:01\r\u001b[K     |█████████████████████▋          | 2.2MB 16.8MB/s eta 0:00:01\r\u001b[K     |█████████████████████▊          | 2.2MB 16.8MB/s eta 0:00:01\r\u001b[K     |█████████████████████▊          | 2.2MB 16.8MB/s eta 0:00:01\r\u001b[K     |█████████████████████▉          | 2.3MB 16.8MB/s eta 0:00:01\r\u001b[K     |██████████████████████          | 2.3MB 16.8MB/s eta 0:00:01\r\u001b[K     |██████████████████████          | 2.3MB 16.8MB/s eta 0:00:01\r\u001b[K     |██████████████████████▏         | 2.3MB 16.8MB/s eta 0:00:01\r\u001b[K     |██████████████████████▎         | 2.3MB 16.8MB/s eta 0:00:01\r\u001b[K     |██████████████████████▍         | 2.3MB 16.8MB/s eta 0:00:01\r\u001b[K     |██████████████████████▌         | 2.3MB 16.8MB/s eta 0:00:01\r\u001b[K     |██████████████████████▋         | 2.3MB 16.8MB/s eta 0:00:01\r\u001b[K     |██████████████████████▊         | 2.3MB 16.8MB/s eta 0:00:01\r\u001b[K     |██████████████████████▊         | 2.3MB 16.8MB/s eta 0:00:01\r\u001b[K     |██████████████████████▉         | 2.4MB 16.8MB/s eta 0:00:01\r\u001b[K     |███████████████████████         | 2.4MB 16.8MB/s eta 0:00:01\r\u001b[K     |███████████████████████         | 2.4MB 16.8MB/s eta 0:00:01\r\u001b[K     |███████████████████████▏        | 2.4MB 16.8MB/s eta 0:00:01\r\u001b[K     |███████████████████████▎        | 2.4MB 16.8MB/s eta 0:00:01\r\u001b[K     |███████████████████████▍        | 2.4MB 16.8MB/s eta 0:00:01\r\u001b[K     |███████████████████████▌        | 2.4MB 16.8MB/s eta 0:00:01\r\u001b[K     |███████████████████████▋        | 2.4MB 16.8MB/s eta 0:00:01\r\u001b[K     |███████████████████████▋        | 2.4MB 16.8MB/s eta 0:00:01\r\u001b[K     |███████████████████████▊        | 2.4MB 16.8MB/s eta 0:00:01\r\u001b[K     |███████████████████████▉        | 2.5MB 16.8MB/s eta 0:00:01\r\u001b[K     |████████████████████████        | 2.5MB 16.8MB/s eta 0:00:01\r\u001b[K     |████████████████████████        | 2.5MB 16.8MB/s eta 0:00:01\r\u001b[K     |████████████████████████▏       | 2.5MB 16.8MB/s eta 0:00:01\r\u001b[K     |████████████████████████▎       | 2.5MB 16.8MB/s eta 0:00:01\r\u001b[K     |████████████████████████▍       | 2.5MB 16.8MB/s eta 0:00:01\r\u001b[K     |████████████████████████▌       | 2.5MB 16.8MB/s eta 0:00:01\r\u001b[K     |████████████████████████▋       | 2.5MB 16.8MB/s eta 0:00:01\r\u001b[K     |████████████████████████▋       | 2.5MB 16.8MB/s eta 0:00:01\r\u001b[K     |████████████████████████▊       | 2.5MB 16.8MB/s eta 0:00:01\r\u001b[K     |████████████████████████▉       | 2.6MB 16.8MB/s eta 0:00:01\r\u001b[K     |█████████████████████████       | 2.6MB 16.8MB/s eta 0:00:01\r\u001b[K     |█████████████████████████       | 2.6MB 16.8MB/s eta 0:00:01\r\u001b[K     |█████████████████████████▏      | 2.6MB 16.8MB/s eta 0:00:01\r\u001b[K     |█████████████████████████▎      | 2.6MB 16.8MB/s eta 0:00:01\r\u001b[K     |█████████████████████████▍      | 2.6MB 16.8MB/s eta 0:00:01\r\u001b[K     |█████████████████████████▌      | 2.6MB 16.8MB/s eta 0:00:01\r\u001b[K     |█████████████████████████▌      | 2.6MB 16.8MB/s eta 0:00:01\r\u001b[K     |█████████████████████████▋      | 2.6MB 16.8MB/s eta 0:00:01\r\u001b[K     |█████████████████████████▊      | 2.7MB 16.8MB/s eta 0:00:01\r\u001b[K     |█████████████████████████▉      | 2.7MB 16.8MB/s eta 0:00:01\r\u001b[K     |██████████████████████████      | 2.7MB 16.8MB/s eta 0:00:01\r\u001b[K     |██████████████████████████      | 2.7MB 16.8MB/s eta 0:00:01\r\u001b[K     |██████████████████████████▏     | 2.7MB 16.8MB/s eta 0:00:01\r\u001b[K     |██████████████████████████▎     | 2.7MB 16.8MB/s eta 0:00:01\r\u001b[K     |██████████████████████████▍     | 2.7MB 16.8MB/s eta 0:00:01\r\u001b[K     |██████████████████████████▌     | 2.7MB 16.8MB/s eta 0:00:01\r\u001b[K     |██████████████████████████▌     | 2.7MB 16.8MB/s eta 0:00:01\r\u001b[K     |██████████████████████████▋     | 2.7MB 16.8MB/s eta 0:00:01\r\u001b[K     |██████████████████████████▊     | 2.8MB 16.8MB/s eta 0:00:01\r\u001b[K     |██████████████████████████▉     | 2.8MB 16.8MB/s eta 0:00:01\r\u001b[K     |███████████████████████████     | 2.8MB 16.8MB/s eta 0:00:01\r\u001b[K     |███████████████████████████     | 2.8MB 16.8MB/s eta 0:00:01\r\u001b[K     |███████████████████████████▏    | 2.8MB 16.8MB/s eta 0:00:01\r\u001b[K     |███████████████████████████▎    | 2.8MB 16.8MB/s eta 0:00:01\r\u001b[K     |███████████████████████████▍    | 2.8MB 16.8MB/s eta 0:00:01\r\u001b[K     |███████████████████████████▍    | 2.8MB 16.8MB/s eta 0:00:01\r\u001b[K     |███████████████████████████▌    | 2.8MB 16.8MB/s eta 0:00:01\r\u001b[K     |███████████████████████████▋    | 2.8MB 16.8MB/s eta 0:00:01\r\u001b[K     |███████████████████████████▊    | 2.9MB 16.8MB/s eta 0:00:01\r\u001b[K     |███████████████████████████▉    | 2.9MB 16.8MB/s eta 0:00:01\r\u001b[K     |████████████████████████████    | 2.9MB 16.8MB/s eta 0:00:01\r\u001b[K     |████████████████████████████    | 2.9MB 16.8MB/s eta 0:00:01\r\u001b[K     |████████████████████████████▏   | 2.9MB 16.8MB/s eta 0:00:01\r\u001b[K     |████████████████████████████▎   | 2.9MB 16.8MB/s eta 0:00:01\r\u001b[K     |████████████████████████████▍   | 2.9MB 16.8MB/s eta 0:00:01\r\u001b[K     |████████████████████████████▍   | 2.9MB 16.8MB/s eta 0:00:01\r\u001b[K     |████████████████████████████▌   | 2.9MB 16.8MB/s eta 0:00:01\r\u001b[K     |████████████████████████████▋   | 2.9MB 16.8MB/s eta 0:00:01\r\u001b[K     |████████████████████████████▊   | 3.0MB 16.8MB/s eta 0:00:01\r\u001b[K     |████████████████████████████▉   | 3.0MB 16.8MB/s eta 0:00:01\r\u001b[K     |█████████████████████████████   | 3.0MB 16.8MB/s eta 0:00:01\r\u001b[K     |█████████████████████████████   | 3.0MB 16.8MB/s eta 0:00:01\r\u001b[K     |█████████████████████████████▏  | 3.0MB 16.8MB/s eta 0:00:01\r\u001b[K     |█████████████████████████████▎  | 3.0MB 16.8MB/s eta 0:00:01\r\u001b[K     |█████████████████████████████▎  | 3.0MB 16.8MB/s eta 0:00:01\r\u001b[K     |█████████████████████████████▍  | 3.0MB 16.8MB/s eta 0:00:01\r\u001b[K     |█████████████████████████████▌  | 3.0MB 16.8MB/s eta 0:00:01\r\u001b[K     |█████████████████████████████▋  | 3.1MB 16.8MB/s eta 0:00:01\r\u001b[K     |█████████████████████████████▊  | 3.1MB 16.8MB/s eta 0:00:01\r\u001b[K     |█████████████████████████████▉  | 3.1MB 16.8MB/s eta 0:00:01\r\u001b[K     |██████████████████████████████  | 3.1MB 16.8MB/s eta 0:00:01\r\u001b[K     |██████████████████████████████  | 3.1MB 16.8MB/s eta 0:00:01\r\u001b[K     |██████████████████████████████▏ | 3.1MB 16.8MB/s eta 0:00:01\r\u001b[K     |██████████████████████████████▎ | 3.1MB 16.8MB/s eta 0:00:01\r\u001b[K     |██████████████████████████████▎ | 3.1MB 16.8MB/s eta 0:00:01\r\u001b[K     |██████████████████████████████▍ | 3.1MB 16.8MB/s eta 0:00:01\r\u001b[K     |██████████████████████████████▌ | 3.1MB 16.8MB/s eta 0:00:01\r\u001b[K     |██████████████████████████████▋ | 3.2MB 16.8MB/s eta 0:00:01\r\u001b[K     |██████████████████████████████▊ | 3.2MB 16.8MB/s eta 0:00:01\r\u001b[K     |██████████████████████████████▉ | 3.2MB 16.8MB/s eta 0:00:01\r\u001b[K     |███████████████████████████████ | 3.2MB 16.8MB/s eta 0:00:01\r\u001b[K     |███████████████████████████████ | 3.2MB 16.8MB/s eta 0:00:01\r\u001b[K     |███████████████████████████████▏| 3.2MB 16.8MB/s eta 0:00:01\r\u001b[K     |███████████████████████████████▏| 3.2MB 16.8MB/s eta 0:00:01\r\u001b[K     |███████████████████████████████▎| 3.2MB 16.8MB/s eta 0:00:01\r\u001b[K     |███████████████████████████████▍| 3.2MB 16.8MB/s eta 0:00:01\r\u001b[K     |███████████████████████████████▌| 3.2MB 16.8MB/s eta 0:00:01\r\u001b[K     |███████████████████████████████▋| 3.3MB 16.8MB/s eta 0:00:01\r\u001b[K     |███████████████████████████████▊| 3.3MB 16.8MB/s eta 0:00:01\r\u001b[K     |███████████████████████████████▉| 3.3MB 16.8MB/s eta 0:00:01\r\u001b[K     |████████████████████████████████| 3.3MB 16.8MB/s eta 0:00:01\r\u001b[K     |████████████████████████████████| 3.3MB 16.8MB/s \n",
            "\u001b[?25hVersion:  2.2.0-rc2\n",
            "Eager mode:  True\n",
            "Hub version:  0.8.0\n",
            "GPU is available\n"
          ],
          "name": "stdout"
        }
      ]
    },
    {
      "cell_type": "code",
      "metadata": {
        "id": "2yUYZ09q48rW",
        "colab_type": "code",
        "colab": {
          "base_uri": "https://localhost:8080/",
          "height": 359,
          "referenced_widgets": [
            "70e5139ffa6c472faa9bbc48f12ed8bf",
            "95629074a78044ba9adf49671d931b98",
            "6d3b2db4c6a644b681541ab5df8b0cfc",
            "47cf168ca1c64a31a1821bc28db794b7",
            "08cce5ef30bb4b3896847766c8a3293d",
            "e61157c63c1d4fd397d2c76711414793",
            "6fe3d023e69d462fb179b1f91f209d5b",
            "8ea6f1169b114bee9acea4e56189bb88",
            "1d732f2ab94a4081acbc85c75dd210a5",
            "1616bc7ad0a040f698e825517882dd00",
            "1b25938fc88c498f88a92ae1b7b0acad",
            "af0afa54b2e8477d9d61a0c29a23999d",
            "4c0689ffae594cb58481c4c8aacb2bc2",
            "fd59eb67ad5e47f288fa1fb6a649b295",
            "1fc6df69add34757b5dee323c4d14fe8",
            "4c7d452b5c9843c682d24c8b913e2519",
            "2f855fea4277496f86e9d0ed6e9dc8b5",
            "fc3fb60239194fc2a209bbacc2f380c4",
            "4e572910e0d64eb7a05e78c7d2589643",
            "8d9f43147e5a41a9a8eb1390333f5d82",
            "57f2ce3a70d642c9acc388b8c286c0d9",
            "837133d5dd104ffa9e5c11d3b7e0072b",
            "47d7374e10f04537a16d17142d70be83",
            "4ff57fda7fef403e843678127d6db3ed",
            "3926ff70f9a740d39fc8f74c8c7a5681",
            "f4e691c71b034c98baf65021e38b9f29",
            "226fcfe3e23b4981b9e030c9e80770e0",
            "061239e63b7d4ae1bd873d25c862f3f2",
            "7cd9061791a545e68a6ddfc2ef3d3861",
            "2cfe137176bc44439f5987bd5d468443",
            "b86254fe2c014f928905f5d472c2d136",
            "4ba96ae997a7491a966f60be3c29ab4b",
            "b62936afb08d4dabbb79b5566c7f3576",
            "0d17774d61fe4f4b9df0dc4113b36d6f",
            "238eda9b9ce44629b6b89335f9243291",
            "90a504611948432fb6d451f836872ab1",
            "344d808ed46542ea8c23774958710a8e",
            "0a2b303d9b8643df8f4682fd05412938",
            "925c316987a84a4c817f3cb29417fa53",
            "80ef8bddc4524727b7bb997212903a08",
            "ce7567b4c3d74b819eceb697c8b644bc",
            "0cc342b12f594e25b52048368737695b",
            "283ea9aae1bd447eaddbd05bc9fac58e",
            "454b3675cde44dc8a3aa926085570b0c",
            "acf54dba208e4df3a107fa0eb668b3d7",
            "2f01d5cd0b124a2bbb18a0fcc75e1447",
            "f970e94807d54ee6a85dfd8c47686285",
            "b13f959212ad481192f4bb2e55472bb4",
            "161269b7e7a24812865617fea2c7756f",
            "d108053ba538480099f1dadb4d2e99d7",
            "8838eb8b33da401eb476c69bbe2e34ed",
            "02e17e4babb24cadbd782cdc15555cd8",
            "e4b71264e4194b25a1fe4c3b7fa37573",
            "8a04bfb5f3c444a68dd22ff36d49eb67",
            "2e34a27447e04994bb38c81bbe2aad64",
            "510b6a59cc814a6e808fc23e89a47087",
            "4331199e249c4d13a5ddd8222a95daa7",
            "a1dc27a1b7dc4e278802c5725967a900",
            "5ed6baf7270e4811b97fac64473beb6f",
            "2013ab0e20a64c128cfd1c4a95b128fc",
            "65deb00e44e3472c8111012427f9e19a",
            "e3da5e21ab9f45dba4ea120bf10e50f8",
            "b0debe7549ad4ae1a604c500a6941154",
            "ab58e358c9e84b2f9061d621a78552fe"
          ]
        },
        "outputId": "fd276dd5-4b59-468e-dd45-ed5e942a2575"
      },
      "source": [
        "# Split the training set into 60% and 40%, so we'll end up with 15,000 examples\n",
        "# for training, 10,000 examples for validation and 25,000 examples for testing.\n",
        "train_data, validation_data, test_data = tfds.load(\n",
        "    name=\"imdb_reviews\", \n",
        "    split=('train[:60%]', 'train[60%:]', 'test'),\n",
        "    as_supervised=True)"
      ],
      "execution_count": 2,
      "outputs": [
        {
          "output_type": "stream",
          "text": [
            "\u001b[1mDownloading and preparing dataset imdb_reviews/plain_text/1.0.0 (download: 80.23 MiB, generated: Unknown size, total: 80.23 MiB) to /root/tensorflow_datasets/imdb_reviews/plain_text/1.0.0...\u001b[0m\n"
          ],
          "name": "stdout"
        },
        {
          "output_type": "display_data",
          "data": {
            "application/vnd.jupyter.widget-view+json": {
              "model_id": "70e5139ffa6c472faa9bbc48f12ed8bf",
              "version_minor": 0,
              "version_major": 2
            },
            "text/plain": [
              "HBox(children=(IntProgress(value=1, bar_style='info', description='Dl Completed...', max=1, style=ProgressStyl…"
            ]
          },
          "metadata": {
            "tags": []
          }
        },
        {
          "output_type": "display_data",
          "data": {
            "application/vnd.jupyter.widget-view+json": {
              "model_id": "1d732f2ab94a4081acbc85c75dd210a5",
              "version_minor": 0,
              "version_major": 2
            },
            "text/plain": [
              "HBox(children=(IntProgress(value=1, bar_style='info', description='Dl Size...', max=1, style=ProgressStyle(des…"
            ]
          },
          "metadata": {
            "tags": []
          }
        },
        {
          "output_type": "stream",
          "text": [
            "\n",
            "\n",
            "\n",
            "\n"
          ],
          "name": "stdout"
        },
        {
          "output_type": "display_data",
          "data": {
            "application/vnd.jupyter.widget-view+json": {
              "model_id": "2f855fea4277496f86e9d0ed6e9dc8b5",
              "version_minor": 0,
              "version_major": 2
            },
            "text/plain": [
              "HBox(children=(IntProgress(value=1, bar_style='info', max=1), HTML(value='')))"
            ]
          },
          "metadata": {
            "tags": []
          }
        },
        {
          "output_type": "stream",
          "text": [
            "\rShuffling and writing examples to /root/tensorflow_datasets/imdb_reviews/plain_text/1.0.0.incompleteY0NR5U/imdb_reviews-train.tfrecord\n"
          ],
          "name": "stdout"
        },
        {
          "output_type": "display_data",
          "data": {
            "application/vnd.jupyter.widget-view+json": {
              "model_id": "3926ff70f9a740d39fc8f74c8c7a5681",
              "version_minor": 0,
              "version_major": 2
            },
            "text/plain": [
              "HBox(children=(IntProgress(value=0, max=25000), HTML(value='')))"
            ]
          },
          "metadata": {
            "tags": []
          }
        },
        {
          "output_type": "stream",
          "text": [
            "\r"
          ],
          "name": "stdout"
        },
        {
          "output_type": "display_data",
          "data": {
            "application/vnd.jupyter.widget-view+json": {
              "model_id": "b62936afb08d4dabbb79b5566c7f3576",
              "version_minor": 0,
              "version_major": 2
            },
            "text/plain": [
              "HBox(children=(IntProgress(value=1, bar_style='info', max=1), HTML(value='')))"
            ]
          },
          "metadata": {
            "tags": []
          }
        },
        {
          "output_type": "stream",
          "text": [
            "\rShuffling and writing examples to /root/tensorflow_datasets/imdb_reviews/plain_text/1.0.0.incompleteY0NR5U/imdb_reviews-test.tfrecord\n"
          ],
          "name": "stdout"
        },
        {
          "output_type": "display_data",
          "data": {
            "application/vnd.jupyter.widget-view+json": {
              "model_id": "ce7567b4c3d74b819eceb697c8b644bc",
              "version_minor": 0,
              "version_major": 2
            },
            "text/plain": [
              "HBox(children=(IntProgress(value=0, max=25000), HTML(value='')))"
            ]
          },
          "metadata": {
            "tags": []
          }
        },
        {
          "output_type": "stream",
          "text": [
            "\r"
          ],
          "name": "stdout"
        },
        {
          "output_type": "display_data",
          "data": {
            "application/vnd.jupyter.widget-view+json": {
              "model_id": "161269b7e7a24812865617fea2c7756f",
              "version_minor": 0,
              "version_major": 2
            },
            "text/plain": [
              "HBox(children=(IntProgress(value=1, bar_style='info', max=1), HTML(value='')))"
            ]
          },
          "metadata": {
            "tags": []
          }
        },
        {
          "output_type": "stream",
          "text": [
            "\rShuffling and writing examples to /root/tensorflow_datasets/imdb_reviews/plain_text/1.0.0.incompleteY0NR5U/imdb_reviews-unsupervised.tfrecord\n"
          ],
          "name": "stdout"
        },
        {
          "output_type": "display_data",
          "data": {
            "application/vnd.jupyter.widget-view+json": {
              "model_id": "4331199e249c4d13a5ddd8222a95daa7",
              "version_minor": 0,
              "version_major": 2
            },
            "text/plain": [
              "HBox(children=(IntProgress(value=0, max=50000), HTML(value='')))"
            ]
          },
          "metadata": {
            "tags": []
          }
        },
        {
          "output_type": "stream",
          "text": [
            "\u001b[1mDataset imdb_reviews downloaded and prepared to /root/tensorflow_datasets/imdb_reviews/plain_text/1.0.0. Subsequent calls will reuse this data.\u001b[0m\n",
            "\r"
          ],
          "name": "stdout"
        }
      ]
    },
    {
      "cell_type": "code",
      "metadata": {
        "id": "lXpRgGzI5nAk",
        "colab_type": "code",
        "colab": {
          "base_uri": "https://localhost:8080/",
          "height": 253
        },
        "outputId": "e5472f8c-ad79-4405-fdc6-beb8dbe95ec1"
      },
      "source": [
        "train_examples_batch, train_labels_batch = next(iter(train_data.batch(10)))\n",
        "train_examples_batch"
      ],
      "execution_count": 3,
      "outputs": [
        {
          "output_type": "execute_result",
          "data": {
            "text/plain": [
              "<tf.Tensor: shape=(10,), dtype=string, numpy=\n",
              "array([b\"This was an absolutely terrible movie. Don't be lured in by Christopher Walken or Michael Ironside. Both are great actors, but this must simply be their worst role in history. Even their great acting could not redeem this movie's ridiculous storyline. This movie is an early nineties US propaganda piece. The most pathetic scenes were those when the Columbian rebels were making their cases for revolutions. Maria Conchita Alonso appeared phony, and her pseudo-love affair with Walken was nothing but a pathetic emotional plug in a movie that was devoid of any real meaning. I am disappointed that there are movies like this, ruining actor's like Christopher Walken's good name. I could barely sit through it.\",\n",
              "       b'I have been known to fall asleep during films, but this is usually due to a combination of things including, really tired, being warm and comfortable on the sette and having just eaten a lot. However on this occasion I fell asleep because the film was rubbish. The plot development was constant. Constantly slow and boring. Things seemed to happen, but with no explanation of what was causing them or why. I admit, I may have missed part of the film, but i watched the majority of it and everything just seemed to happen of its own accord without any real concern for anything else. I cant recommend this film at all.',\n",
              "       b'Mann photographs the Alberta Rocky Mountains in a superb fashion, and Jimmy Stewart and Walter Brennan give enjoyable performances as they always seem to do. <br /><br />But come on Hollywood - a Mountie telling the people of Dawson City, Yukon to elect themselves a marshal (yes a marshal!) and to enforce the law themselves, then gunfighters battling it out on the streets for control of the town? <br /><br />Nothing even remotely resembling that happened on the Canadian side of the border during the Klondike gold rush. Mr. Mann and company appear to have mistaken Dawson City for Deadwood, the Canadian North for the American Wild West.<br /><br />Canadian viewers be prepared for a Reefer Madness type of enjoyable howl with this ludicrous plot, or, to shake your head in disgust.',\n",
              "       b'This is the kind of film for a snowy Sunday afternoon when the rest of the world can go ahead with its own business as you descend into a big arm-chair and mellow for a couple of hours. Wonderful performances from Cher and Nicolas Cage (as always) gently row the plot along. There are no rapids to cross, no dangerous waters, just a warm and witty paddle through New York life at its best. A family film in every sense and one that deserves the praise it received.',\n",
              "       b'As others have mentioned, all the women that go nude in this film are mostly absolutely gorgeous. The plot very ably shows the hypocrisy of the female libido. When men are around they want to be pursued, but when no \"men\" are around, they become the pursuers of a 14 year old boy. And the boy becomes a man really fast (we should all be so lucky at this age!). He then gets up the courage to pursue his true love.',\n",
              "       b\"This is a film which should be seen by anybody interested in, effected by, or suffering from an eating disorder. It is an amazingly accurate and sensitive portrayal of bulimia in a teenage girl, its causes and its symptoms. The girl is played by one of the most brilliant young actresses working in cinema today, Alison Lohman, who was later so spectacular in 'Where the Truth Lies'. I would recommend that this film be shown in all schools, as you will never see a better on this subject. Alison Lohman is absolutely outstanding, and one marvels at her ability to convey the anguish of a girl suffering from this compulsive disorder. If barometers tell us the air pressure, Alison Lohman tells us the emotional pressure with the same degree of accuracy. Her emotional range is so precise, each scene could be measured microscopically for its gradations of trauma, on a scale of rising hysteria and desperation which reaches unbearable intensity. Mare Winningham is the perfect choice to play her mother, and does so with immense sympathy and a range of emotions just as finely tuned as Lohman's. Together, they make a pair of sensitive emotional oscillators vibrating in resonance with one another. This film is really an astonishing achievement, and director Katt Shea should be proud of it. The only reason for not seeing it is if you are not interested in people. But even if you like nature films best, this is after all animal behaviour at the sharp edge. Bulimia is an extreme version of how a tormented soul can destroy her own body in a frenzy of despair. And if we don't sympathise with people suffering from the depths of despair, then we are dead inside.\",\n",
              "       b'Okay, you have:<br /><br />Penelope Keith as Miss Herringbone-Tweed, B.B.E. (Backbone of England.) She\\'s killed off in the first scene - that\\'s right, folks; this show has no backbone!<br /><br />Peter O\\'Toole as Ol\\' Colonel Cricket from The First War and now the emblazered Lord of the Manor.<br /><br />Joanna Lumley as the ensweatered Lady of the Manor, 20 years younger than the colonel and 20 years past her own prime but still glamourous (Brit spelling, not mine) enough to have a toy-boy on the side. It\\'s alright, they have Col. Cricket\\'s full knowledge and consent (they guy even comes \\'round for Christmas!) Still, she\\'s considerate of the colonel enough to have said toy-boy her own age (what a gal!)<br /><br />David McCallum as said toy-boy, equally as pointlessly glamourous as his squeeze. Pilcher couldn\\'t come up with any cover for him within the story, so she gave him a hush-hush job at the Circus.<br /><br />and finally:<br /><br />Susan Hampshire as Miss Polonia Teacups, Venerable Headmistress of the Venerable Girls\\' Boarding-School, serving tea in her office with a dash of deep, poignant advice for life in the outside world just before graduation. Her best bit of advice: \"I\\'ve only been to Nancherrow (the local Stately Home of England) once. I thought it was very beautiful but, somehow, not part of the real world.\" Well, we can\\'t say they didn\\'t warn us.<br /><br />Ah, Susan - time was, your character would have been running the whole show. They don\\'t write \\'em like that any more. Our loss, not yours.<br /><br />So - with a cast and setting like this, you have the re-makings of \"Brideshead Revisited,\" right?<br /><br />Wrong! They took these 1-dimensional supporting roles because they paid so well. After all, acting is one of the oldest temp-jobs there is (YOU name another!)<br /><br />First warning sign: lots and lots of backlighting. They get around it by shooting outdoors - \"hey, it\\'s just the sunlight!\"<br /><br />Second warning sign: Leading Lady cries a lot. When not crying, her eyes are moist. That\\'s the law of romance novels: Leading Lady is \"dewy-eyed.\"<br /><br />Henceforth, Leading Lady shall be known as L.L.<br /><br />Third warning sign: L.L. actually has stars in her eyes when she\\'s in love. Still, I\\'ll give Emily Mortimer an award just for having to act with that spotlight in her eyes (I wonder . did they use contacts?)<br /><br />And lastly, fourth warning sign: no on-screen female character is \"Mrs.\" She\\'s either \"Miss\" or \"Lady.\"<br /><br />When all was said and done, I still couldn\\'t tell you who was pursuing whom and why. I couldn\\'t even tell you what was said and done.<br /><br />To sum up: they all live through World War II without anything happening to them at all.<br /><br />OK, at the end, L.L. finds she\\'s lost her parents to the Japanese prison camps and baby sis comes home catatonic. Meanwhile (there\\'s always a \"meanwhile,\") some young guy L.L. had a crush on (when, I don\\'t know) comes home from some wartime tough spot and is found living on the street by Lady of the Manor (must be some street if SHE\\'s going to find him there.) Both war casualties are whisked away to recover at Nancherrow (SOMEBODY has to be \"whisked away\" SOMEWHERE in these romance stories!)<br /><br />Great drama.',\n",
              "       b'The film is based on a genuine 1950s novel.<br /><br />Journalist Colin McInnes wrote a set of three \"London novels\": \"Absolute Beginners\", \"City of Spades\" and \"Mr Love and Justice\". I have read all three. The first two are excellent. The last, perhaps an experiment that did not come off. But McInnes\\'s work is highly acclaimed; and rightly so. This musical is the novelist\\'s ultimate nightmare - to see the fruits of one\\'s mind being turned into a glitzy, badly-acted, soporific one-dimensional apology of a film that says it captures the spirit of 1950s London, and does nothing of the sort.<br /><br />Thank goodness Colin McInnes wasn\\'t alive to witness it.',\n",
              "       b'I really love the sexy action and sci-fi films of the sixties and its because of the actress\\'s that appeared in them. They found the sexiest women to be in these films and it didn\\'t matter if they could act (Remember \"Candy\"?). The reason I was disappointed by this film was because it wasn\\'t nostalgic enough. The story here has a European sci-fi film called \"Dragonfly\" being made and the director is fired. So the producers decide to let a young aspiring filmmaker (Jeremy Davies) to complete the picture. They\\'re is one real beautiful woman in the film who plays Dragonfly but she\\'s barely in it. Film is written and directed by Roman Coppola who uses some of his fathers exploits from his early days and puts it into the script. I wish the film could have been an homage to those early films. They could have lots of cameos by actors who appeared in them. There is one actor in this film who was popular from the sixties and its John Phillip Law (Barbarella). Gerard Depardieu, Giancarlo Giannini and Dean Stockwell appear as well. I guess I\\'m going to have to continue waiting for a director to make a good homage to the films of the sixties. If any are reading this, \"Make it as sexy as you can\"! I\\'ll be waiting!',\n",
              "       b'Sure, this one isn\\'t really a blockbuster, nor does it target such a position. \"Dieter\" is the first name of a quite popular German musician, who is either loved or hated for his kind of acting and thats exactly what this movie is about. It is based on the autobiography \"Dieter Bohlen\" wrote a few years ago but isn\\'t meant to be accurate on that. The movie is filled with some sexual offensive content (at least for American standard) which is either amusing (not for the other \"actors\" of course) or dumb - it depends on your individual kind of humor or on you being a \"Bohlen\"-Fan or not. Technically speaking there isn\\'t much to criticize. Speaking of me I find this movie to be an OK-movie.'],\n",
              "      dtype=object)>"
            ]
          },
          "metadata": {
            "tags": []
          },
          "execution_count": 3
        }
      ]
    },
    {
      "cell_type": "code",
      "metadata": {
        "id": "zo5_z3wb51D9",
        "colab_type": "code",
        "colab": {
          "base_uri": "https://localhost:8080/",
          "height": 35
        },
        "outputId": "08bc348f-82bd-4a9e-f8b1-c48c41f42c7c"
      },
      "source": [
        "train_labels_batch"
      ],
      "execution_count": 4,
      "outputs": [
        {
          "output_type": "execute_result",
          "data": {
            "text/plain": [
              "<tf.Tensor: shape=(10,), dtype=int64, numpy=array([0, 0, 0, 1, 1, 1, 0, 0, 0, 0])>"
            ]
          },
          "metadata": {
            "tags": []
          },
          "execution_count": 4
        }
      ]
    },
    {
      "cell_type": "code",
      "metadata": {
        "id": "RHxL3gnr6Bwt",
        "colab_type": "code",
        "colab": {
          "base_uri": "https://localhost:8080/",
          "height": 269
        },
        "outputId": "ebc1eb20-5083-4e0f-eb84-c6f5140c44d6"
      },
      "source": [
        "embedding = \"https://tfhub.dev/google/tf2-preview/gnews-swivel-20dim/1\"\n",
        "hub_layer = hub.KerasLayer(embedding, input_shape=[], \n",
        "                           dtype=tf.string, trainable=True)\n",
        "hub_layer(train_examples_batch[:3])"
      ],
      "execution_count": 5,
      "outputs": [
        {
          "output_type": "execute_result",
          "data": {
            "text/plain": [
              "<tf.Tensor: shape=(3, 20), dtype=float32, numpy=\n",
              "array([[ 1.765786  , -3.882232  ,  3.9134233 , -1.5557289 , -3.3362343 ,\n",
              "        -1.7357955 , -1.9954445 ,  1.2989551 ,  5.081598  , -1.1041286 ,\n",
              "        -2.0503852 , -0.72675157, -0.65675956,  0.24436149, -3.7208383 ,\n",
              "         2.0954835 ,  2.2969332 , -2.0689783 , -2.9489717 , -1.1315987 ],\n",
              "       [ 1.8804485 , -2.5852382 ,  3.4066997 ,  1.0982676 , -4.056685  ,\n",
              "        -4.891284  , -2.785554  ,  1.3874227 ,  3.8476458 , -0.9256538 ,\n",
              "        -1.896706  ,  1.2113281 ,  0.11474707,  0.76209456, -4.8791065 ,\n",
              "         2.906149  ,  4.7087674 , -2.3652055 , -3.5015898 , -1.6390051 ],\n",
              "       [ 0.71152234, -0.6353217 ,  1.7385626 , -1.1168286 , -0.5451594 ,\n",
              "        -1.1808156 ,  0.09504455,  1.4653089 ,  0.66059524,  0.79308075,\n",
              "        -2.2268345 ,  0.07446612, -1.4075904 , -0.70645386, -1.907037  ,\n",
              "         1.4419787 ,  1.9551861 , -0.42660055, -2.8022065 ,  0.43727064]],\n",
              "      dtype=float32)>"
            ]
          },
          "metadata": {
            "tags": []
          },
          "execution_count": 5
        }
      ]
    },
    {
      "cell_type": "code",
      "metadata": {
        "id": "r7--4vR661EG",
        "colab_type": "code",
        "colab": {
          "base_uri": "https://localhost:8080/",
          "height": 269
        },
        "outputId": "0b6845b5-6007-4a31-8cfc-d75477076c05"
      },
      "source": [
        "model = tf.keras.Sequential()\n",
        "model.add(hub_layer)\n",
        "model.add(tf.keras.layers.Dense(16, activation='relu'))\n",
        "model.add(tf.keras.layers.Dense(1))\n",
        "\n",
        "model.summary()"
      ],
      "execution_count": 6,
      "outputs": [
        {
          "output_type": "stream",
          "text": [
            "Model: \"sequential\"\n",
            "_________________________________________________________________\n",
            "Layer (type)                 Output Shape              Param #   \n",
            "=================================================================\n",
            "keras_layer (KerasLayer)     (None, 20)                400020    \n",
            "_________________________________________________________________\n",
            "dense (Dense)                (None, 16)                336       \n",
            "_________________________________________________________________\n",
            "dense_1 (Dense)              (None, 1)                 17        \n",
            "=================================================================\n",
            "Total params: 400,373\n",
            "Trainable params: 400,373\n",
            "Non-trainable params: 0\n",
            "_________________________________________________________________\n"
          ],
          "name": "stdout"
        }
      ]
    },
    {
      "cell_type": "code",
      "metadata": {
        "id": "Me0fwIac6-IA",
        "colab_type": "code",
        "colab": {}
      },
      "source": [
        "model.compile(optimizer='adam',\n",
        "              loss=tf.keras.losses.BinaryCrossentropy(from_logits=True),\n",
        "              metrics=['accuracy'])"
      ],
      "execution_count": 0,
      "outputs": []
    },
    {
      "cell_type": "code",
      "metadata": {
        "id": "zx_lM7P88JMa",
        "colab_type": "code",
        "colab": {
          "base_uri": "https://localhost:8080/",
          "height": 737
        },
        "outputId": "fe50530d-ab20-48d1-d556-d6354b9768e2"
      },
      "source": [
        "history = model.fit(train_data.shuffle(10000).batch(512),\n",
        "                    epochs=20,\n",
        "                    validation_data=validation_data.batch(512),\n",
        "                    verbose=1)"
      ],
      "execution_count": 8,
      "outputs": [
        {
          "output_type": "stream",
          "text": [
            "Epoch 1/20\n",
            "30/30 [==============================] - 3s 87ms/step - loss: 1.3986 - accuracy: 0.5012 - val_loss: 0.7376 - val_accuracy: 0.5489\n",
            "Epoch 2/20\n",
            "30/30 [==============================] - 2s 82ms/step - loss: 0.6896 - accuracy: 0.5539 - val_loss: 0.6608 - val_accuracy: 0.5800\n",
            "Epoch 3/20\n",
            "30/30 [==============================] - 2s 82ms/step - loss: 0.6402 - accuracy: 0.6116 - val_loss: 0.6259 - val_accuracy: 0.6285\n",
            "Epoch 4/20\n",
            "30/30 [==============================] - 2s 80ms/step - loss: 0.6077 - accuracy: 0.6445 - val_loss: 0.6007 - val_accuracy: 0.6514\n",
            "Epoch 5/20\n",
            "30/30 [==============================] - 2s 82ms/step - loss: 0.5827 - accuracy: 0.6696 - val_loss: 0.5787 - val_accuracy: 0.6745\n",
            "Epoch 6/20\n",
            "30/30 [==============================] - 2s 80ms/step - loss: 0.5577 - accuracy: 0.6927 - val_loss: 0.5562 - val_accuracy: 0.6932\n",
            "Epoch 7/20\n",
            "30/30 [==============================] - 2s 79ms/step - loss: 0.5311 - accuracy: 0.7191 - val_loss: 0.5278 - val_accuracy: 0.7145\n",
            "Epoch 8/20\n",
            "30/30 [==============================] - 2s 82ms/step - loss: 0.4967 - accuracy: 0.7458 - val_loss: 0.4936 - val_accuracy: 0.7542\n",
            "Epoch 9/20\n",
            "30/30 [==============================] - 2s 80ms/step - loss: 0.4553 - accuracy: 0.7728 - val_loss: 0.4620 - val_accuracy: 0.7787\n",
            "Epoch 10/20\n",
            "30/30 [==============================] - 2s 82ms/step - loss: 0.4190 - accuracy: 0.8021 - val_loss: 0.4313 - val_accuracy: 0.7948\n",
            "Epoch 11/20\n",
            "30/30 [==============================] - 2s 81ms/step - loss: 0.3835 - accuracy: 0.8245 - val_loss: 0.4033 - val_accuracy: 0.8047\n",
            "Epoch 12/20\n",
            "30/30 [==============================] - 2s 79ms/step - loss: 0.3471 - accuracy: 0.8444 - val_loss: 0.3782 - val_accuracy: 0.8271\n",
            "Epoch 13/20\n",
            "30/30 [==============================] - 2s 82ms/step - loss: 0.3158 - accuracy: 0.8656 - val_loss: 0.3572 - val_accuracy: 0.8294\n",
            "Epoch 14/20\n",
            "30/30 [==============================] - 2s 79ms/step - loss: 0.2856 - accuracy: 0.8791 - val_loss: 0.3391 - val_accuracy: 0.8471\n",
            "Epoch 15/20\n",
            "30/30 [==============================] - 2s 79ms/step - loss: 0.2626 - accuracy: 0.8913 - val_loss: 0.3287 - val_accuracy: 0.8460\n",
            "Epoch 16/20\n",
            "30/30 [==============================] - 2s 79ms/step - loss: 0.2404 - accuracy: 0.9013 - val_loss: 0.3166 - val_accuracy: 0.8584\n",
            "Epoch 17/20\n",
            "30/30 [==============================] - 2s 81ms/step - loss: 0.2225 - accuracy: 0.9122 - val_loss: 0.3105 - val_accuracy: 0.8577\n",
            "Epoch 18/20\n",
            "30/30 [==============================] - 2s 80ms/step - loss: 0.2096 - accuracy: 0.9206 - val_loss: 0.3041 - val_accuracy: 0.8645\n",
            "Epoch 19/20\n",
            "30/30 [==============================] - 2s 80ms/step - loss: 0.1938 - accuracy: 0.9275 - val_loss: 0.3007 - val_accuracy: 0.8670\n",
            "Epoch 20/20\n",
            "30/30 [==============================] - 2s 80ms/step - loss: 0.1796 - accuracy: 0.9338 - val_loss: 0.2985 - val_accuracy: 0.8663\n"
          ],
          "name": "stdout"
        }
      ]
    },
    {
      "cell_type": "code",
      "metadata": {
        "id": "3jzVuxbU8Th0",
        "colab_type": "code",
        "colab": {
          "base_uri": "https://localhost:8080/",
          "height": 71
        },
        "outputId": "22765ed3-9d82-4790-af1f-63fe408b04b1"
      },
      "source": [
        "results = model.evaluate(test_data.batch(512), verbose=2)\n",
        "\n",
        "for name, value in zip(model.metrics_names, results):\n",
        "  print(\"%s: %.3f\" % (name, value))"
      ],
      "execution_count": 9,
      "outputs": [
        {
          "output_type": "stream",
          "text": [
            "49/49 - 2s - loss: 0.3155 - accuracy: 0.8566\n",
            "loss: 0.316\n",
            "accuracy: 0.857\n"
          ],
          "name": "stdout"
        }
      ]
    },
    {
      "cell_type": "code",
      "metadata": {
        "id": "WilirUuR8mKJ",
        "colab_type": "code",
        "colab": {}
      },
      "source": [
        ""
      ],
      "execution_count": 0,
      "outputs": []
    }
  ]
}