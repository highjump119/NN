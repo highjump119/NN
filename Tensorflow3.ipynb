{
  "nbformat": 4,
  "nbformat_minor": 0,
  "metadata": {
    "colab": {
      "name": "Tensorflow3.ipynb",
      "provenance": [],
      "authorship_tag": "ABX9TyMT6RrPEA8xi3r02b7BiVDO",
      "include_colab_link": true
    },
    "kernelspec": {
      "name": "python3",
      "display_name": "Python 3"
    },
    "accelerator": "GPU"
  },
  "cells": [
    {
      "cell_type": "markdown",
      "metadata": {
        "id": "view-in-github",
        "colab_type": "text"
      },
      "source": [
        "<a href=\"https://colab.research.google.com/github/highjump119/NN/blob/master/Tensorflow3.ipynb\" target=\"_parent\"><img src=\"https://colab.research.google.com/assets/colab-badge.svg\" alt=\"Open In Colab\"/></a>"
      ]
    },
    {
      "cell_type": "code",
      "metadata": {
        "id": "uKfmwi-V9Fnl",
        "colab_type": "code",
        "colab": {
          "base_uri": "https://localhost:8080/",
          "height": 35
        },
        "outputId": "640cef85-2335-4e0a-cbb2-5efc50ecfa14"
      },
      "source": [
        "from __future__ import absolute_import, division, print_function, unicode_literals\n",
        "\n",
        "import tensorflow as tf\n",
        "from tensorflow import keras\n",
        "\n",
        "import numpy as np\n",
        "\n",
        "print(tf.__version__)"
      ],
      "execution_count": 1,
      "outputs": [
        {
          "output_type": "stream",
          "text": [
            "2.2.0-rc2\n"
          ],
          "name": "stdout"
        }
      ]
    },
    {
      "cell_type": "code",
      "metadata": {
        "id": "sDCU7B4m9Umo",
        "colab_type": "code",
        "colab": {
          "base_uri": "https://localhost:8080/",
          "height": 53
        },
        "outputId": "2e1cad39-af03-430d-d119-db30026421e5"
      },
      "source": [
        "imdb = keras.datasets.imdb\n",
        "\n",
        "(train_data, train_labels), (test_data, test_labels) = imdb.load_data(num_words=10000)"
      ],
      "execution_count": 2,
      "outputs": [
        {
          "output_type": "stream",
          "text": [
            "Downloading data from https://storage.googleapis.com/tensorflow/tf-keras-datasets/imdb.npz\n",
            "17465344/17464789 [==============================] - 0s 0us/step\n"
          ],
          "name": "stdout"
        }
      ]
    },
    {
      "cell_type": "code",
      "metadata": {
        "id": "suhEOVp-9jwD",
        "colab_type": "code",
        "colab": {
          "base_uri": "https://localhost:8080/",
          "height": 35
        },
        "outputId": "4b2a95aa-28fd-4f1c-d940-4a52aa7fb997"
      },
      "source": [
        "print(\"Training entries: {}, labels: {}\".format(len(train_data), len(train_labels)))"
      ],
      "execution_count": 3,
      "outputs": [
        {
          "output_type": "stream",
          "text": [
            "Training entries: 25000, labels: 25000\n"
          ],
          "name": "stdout"
        }
      ]
    },
    {
      "cell_type": "code",
      "metadata": {
        "id": "dBokUP1C9qdu",
        "colab_type": "code",
        "colab": {
          "base_uri": "https://localhost:8080/",
          "height": 55
        },
        "outputId": "33730154-b613-439d-f90e-999b3a12c5c5"
      },
      "source": [
        "print(train_data[0])"
      ],
      "execution_count": 4,
      "outputs": [
        {
          "output_type": "stream",
          "text": [
            "[1, 14, 22, 16, 43, 530, 973, 1622, 1385, 65, 458, 4468, 66, 3941, 4, 173, 36, 256, 5, 25, 100, 43, 838, 112, 50, 670, 2, 9, 35, 480, 284, 5, 150, 4, 172, 112, 167, 2, 336, 385, 39, 4, 172, 4536, 1111, 17, 546, 38, 13, 447, 4, 192, 50, 16, 6, 147, 2025, 19, 14, 22, 4, 1920, 4613, 469, 4, 22, 71, 87, 12, 16, 43, 530, 38, 76, 15, 13, 1247, 4, 22, 17, 515, 17, 12, 16, 626, 18, 2, 5, 62, 386, 12, 8, 316, 8, 106, 5, 4, 2223, 5244, 16, 480, 66, 3785, 33, 4, 130, 12, 16, 38, 619, 5, 25, 124, 51, 36, 135, 48, 25, 1415, 33, 6, 22, 12, 215, 28, 77, 52, 5, 14, 407, 16, 82, 2, 8, 4, 107, 117, 5952, 15, 256, 4, 2, 7, 3766, 5, 723, 36, 71, 43, 530, 476, 26, 400, 317, 46, 7, 4, 2, 1029, 13, 104, 88, 4, 381, 15, 297, 98, 32, 2071, 56, 26, 141, 6, 194, 7486, 18, 4, 226, 22, 21, 134, 476, 26, 480, 5, 144, 30, 5535, 18, 51, 36, 28, 224, 92, 25, 104, 4, 226, 65, 16, 38, 1334, 88, 12, 16, 283, 5, 16, 4472, 113, 103, 32, 15, 16, 5345, 19, 178, 32]\n"
          ],
          "name": "stdout"
        }
      ]
    },
    {
      "cell_type": "code",
      "metadata": {
        "id": "QFUR_tX39voP",
        "colab_type": "code",
        "colab": {
          "base_uri": "https://localhost:8080/",
          "height": 35
        },
        "outputId": "90e69424-7ca6-410a-e9a3-5e115b4c04ce"
      },
      "source": [
        "len(train_data[0]), len(train_data[1])"
      ],
      "execution_count": 5,
      "outputs": [
        {
          "output_type": "execute_result",
          "data": {
            "text/plain": [
              "(218, 189)"
            ]
          },
          "metadata": {
            "tags": []
          },
          "execution_count": 5
        }
      ]
    },
    {
      "cell_type": "code",
      "metadata": {
        "id": "IOraGCOz92Tk",
        "colab_type": "code",
        "colab": {
          "base_uri": "https://localhost:8080/",
          "height": 53
        },
        "outputId": "ab19f0bb-4129-40b3-d4d0-79fca6dda60e"
      },
      "source": [
        "# 単語を整数にマッピングする辞書\n",
        "word_index = imdb.get_word_index()\n",
        "\n",
        "# インデックスの最初の方は予約済み\n",
        "word_index = {k:(v+3) for k,v in word_index.items()} \n",
        "word_index[\"<PAD>\"] = 0\n",
        "word_index[\"<START>\"] = 1\n",
        "word_index[\"<UNK>\"] = 2  # unknown\n",
        "word_index[\"<UNUSED>\"] = 3\n",
        "\n",
        "reverse_word_index = dict([(value, key) for (key, value) in word_index.items()])\n",
        "\n",
        "def decode_review(text):\n",
        "    return ' '.join([reverse_word_index.get(i, '?') for i in text])"
      ],
      "execution_count": 6,
      "outputs": [
        {
          "output_type": "stream",
          "text": [
            "Downloading data from https://storage.googleapis.com/tensorflow/tf-keras-datasets/imdb_word_index.json\n",
            "1646592/1641221 [==============================] - 0s 0us/step\n"
          ],
          "name": "stdout"
        }
      ]
    },
    {
      "cell_type": "code",
      "metadata": {
        "id": "dKiG9H_4966f",
        "colab_type": "code",
        "colab": {
          "base_uri": "https://localhost:8080/",
          "height": 55
        },
        "outputId": "7311cb87-0188-43f4-eaed-e73306c76c31"
      },
      "source": [
        "decode_review(train_data[0])"
      ],
      "execution_count": 7,
      "outputs": [
        {
          "output_type": "execute_result",
          "data": {
            "text/plain": [
              "\"<START> this film was just brilliant casting location scenery story direction everyone's really suited the part they played and you could just imagine being there robert <UNK> is an amazing actor and now the same being director <UNK> father came from the same scottish island as myself so i loved the fact there was a real connection with this film the witty remarks throughout the film were great it was just brilliant so much that i bought the film as soon as it was released for <UNK> and would recommend it to everyone to watch and the fly fishing was amazing really cried at the end it was so sad and you know what they say if you cry at a film it must have been good and this definitely was also <UNK> to the two little boy's that played the <UNK> of norman and paul they were just brilliant children are often left out of the <UNK> list i think because the stars that play them all grown up are such a big profile for the whole film but these children are amazing and should be praised for what they have done don't you think the whole story was so lovely because it was true and was someone's life after all that was shared with us all\""
            ]
          },
          "metadata": {
            "tags": []
          },
          "execution_count": 7
        }
      ]
    },
    {
      "cell_type": "code",
      "metadata": {
        "id": "uu1alflU-L58",
        "colab_type": "code",
        "colab": {}
      },
      "source": [
        "train_data = keras.preprocessing.sequence.pad_sequences(train_data,\n",
        "                                                        value=word_index[\"<PAD>\"],\n",
        "                                                        padding='post',\n",
        "                                                        maxlen=256)\n",
        "\n",
        "test_data = keras.preprocessing.sequence.pad_sequences(test_data,\n",
        "                                                       value=word_index[\"<PAD>\"],\n",
        "                                                       padding='post',\n",
        "                                                       maxlen=256)"
      ],
      "execution_count": 0,
      "outputs": []
    },
    {
      "cell_type": "code",
      "metadata": {
        "id": "Erzlpn8n-uZG",
        "colab_type": "code",
        "colab": {
          "base_uri": "https://localhost:8080/",
          "height": 35
        },
        "outputId": "062a8af8-c5c3-4981-a430-62c4d18c3fba"
      },
      "source": [
        "len(train_data[0]), len(train_data[1])"
      ],
      "execution_count": 9,
      "outputs": [
        {
          "output_type": "execute_result",
          "data": {
            "text/plain": [
              "(256, 256)"
            ]
          },
          "metadata": {
            "tags": []
          },
          "execution_count": 9
        }
      ]
    },
    {
      "cell_type": "code",
      "metadata": {
        "id": "602wxteR-z_A",
        "colab_type": "code",
        "colab": {
          "base_uri": "https://localhost:8080/",
          "height": 359
        },
        "outputId": "8dfa4364-49f2-423b-8a15-07cc26a592a3"
      },
      "source": [
        "print(train_data[0])"
      ],
      "execution_count": 10,
      "outputs": [
        {
          "output_type": "stream",
          "text": [
            "[   1   14   22   16   43  530  973 1622 1385   65  458 4468   66 3941\n",
            "    4  173   36  256    5   25  100   43  838  112   50  670    2    9\n",
            "   35  480  284    5  150    4  172  112  167    2  336  385   39    4\n",
            "  172 4536 1111   17  546   38   13  447    4  192   50   16    6  147\n",
            " 2025   19   14   22    4 1920 4613  469    4   22   71   87   12   16\n",
            "   43  530   38   76   15   13 1247    4   22   17  515   17   12   16\n",
            "  626   18    2    5   62  386   12    8  316    8  106    5    4 2223\n",
            " 5244   16  480   66 3785   33    4  130   12   16   38  619    5   25\n",
            "  124   51   36  135   48   25 1415   33    6   22   12  215   28   77\n",
            "   52    5   14  407   16   82    2    8    4  107  117 5952   15  256\n",
            "    4    2    7 3766    5  723   36   71   43  530  476   26  400  317\n",
            "   46    7    4    2 1029   13  104   88    4  381   15  297   98   32\n",
            " 2071   56   26  141    6  194 7486   18    4  226   22   21  134  476\n",
            "   26  480    5  144   30 5535   18   51   36   28  224   92   25  104\n",
            "    4  226   65   16   38 1334   88   12   16  283    5   16 4472  113\n",
            "  103   32   15   16 5345   19  178   32    0    0    0    0    0    0\n",
            "    0    0    0    0    0    0    0    0    0    0    0    0    0    0\n",
            "    0    0    0    0    0    0    0    0    0    0    0    0    0    0\n",
            "    0    0    0    0]\n"
          ],
          "name": "stdout"
        }
      ]
    },
    {
      "cell_type": "code",
      "metadata": {
        "id": "9e_8O9Hs-4KJ",
        "colab_type": "code",
        "colab": {
          "base_uri": "https://localhost:8080/",
          "height": 305
        },
        "outputId": "b9d648f6-366e-487c-bd1c-4c76910969e0"
      },
      "source": [
        "# 入力の形式は映画レビューで使われている語彙数（10,000語）\n",
        "vocab_size = 10000\n",
        "\n",
        "model = keras.Sequential()\n",
        "model.add(keras.layers.Embedding(vocab_size, 16))\n",
        "model.add(keras.layers.GlobalAveragePooling1D())\n",
        "model.add(keras.layers.Dense(16, activation='relu'))\n",
        "model.add(keras.layers.Dense(1, activation='sigmoid'))\n",
        "\n",
        "model.summary()"
      ],
      "execution_count": 11,
      "outputs": [
        {
          "output_type": "stream",
          "text": [
            "Model: \"sequential\"\n",
            "_________________________________________________________________\n",
            "Layer (type)                 Output Shape              Param #   \n",
            "=================================================================\n",
            "embedding (Embedding)        (None, None, 16)          160000    \n",
            "_________________________________________________________________\n",
            "global_average_pooling1d (Gl (None, 16)                0         \n",
            "_________________________________________________________________\n",
            "dense (Dense)                (None, 16)                272       \n",
            "_________________________________________________________________\n",
            "dense_1 (Dense)              (None, 1)                 17        \n",
            "=================================================================\n",
            "Total params: 160,289\n",
            "Trainable params: 160,289\n",
            "Non-trainable params: 0\n",
            "_________________________________________________________________\n"
          ],
          "name": "stdout"
        }
      ]
    },
    {
      "cell_type": "code",
      "metadata": {
        "id": "RDQqsO_ZANub",
        "colab_type": "code",
        "colab": {}
      },
      "source": [
        "model.compile(optimizer='adam',\n",
        "              loss='binary_crossentropy',\n",
        "              metrics=['accuracy'])"
      ],
      "execution_count": 0,
      "outputs": []
    },
    {
      "cell_type": "code",
      "metadata": {
        "id": "fxtoSNbTEZLv",
        "colab_type": "code",
        "colab": {}
      },
      "source": [
        "x_val = train_data[:10000]\n",
        "partial_x_train = train_data[10000:]\n",
        "\n",
        "y_val = train_labels[:10000]\n",
        "partial_y_train = train_labels[10000:]"
      ],
      "execution_count": 0,
      "outputs": []
    },
    {
      "cell_type": "code",
      "metadata": {
        "id": "n_zZuagyEhzz",
        "colab_type": "code",
        "colab": {
          "base_uri": "https://localhost:8080/",
          "height": 1000
        },
        "outputId": "9369f96e-928b-4183-9d22-ab55d6fab632"
      },
      "source": [
        "history = model.fit(partial_x_train,\n",
        "                    partial_y_train,\n",
        "                    epochs=40,\n",
        "                    batch_size=512,\n",
        "                    validation_data=(x_val, y_val),\n",
        "                    verbose=1)"
      ],
      "execution_count": 14,
      "outputs": [
        {
          "output_type": "stream",
          "text": [
            "Epoch 1/40\n",
            "30/30 [==============================] - 1s 19ms/step - loss: 0.6914 - accuracy: 0.5882 - val_loss: 0.6888 - val_accuracy: 0.6997\n",
            "Epoch 2/40\n",
            "30/30 [==============================] - 0s 15ms/step - loss: 0.6840 - accuracy: 0.7151 - val_loss: 0.6788 - val_accuracy: 0.7429\n",
            "Epoch 3/40\n",
            "30/30 [==============================] - 0s 14ms/step - loss: 0.6686 - accuracy: 0.7593 - val_loss: 0.6604 - val_accuracy: 0.7552\n",
            "Epoch 4/40\n",
            "30/30 [==============================] - 0s 14ms/step - loss: 0.6430 - accuracy: 0.7749 - val_loss: 0.6324 - val_accuracy: 0.7730\n",
            "Epoch 5/40\n",
            "30/30 [==============================] - 0s 15ms/step - loss: 0.6072 - accuracy: 0.7944 - val_loss: 0.5960 - val_accuracy: 0.7819\n",
            "Epoch 6/40\n",
            "30/30 [==============================] - 0s 14ms/step - loss: 0.5648 - accuracy: 0.8131 - val_loss: 0.5549 - val_accuracy: 0.8064\n",
            "Epoch 7/40\n",
            "30/30 [==============================] - 0s 14ms/step - loss: 0.5191 - accuracy: 0.8305 - val_loss: 0.5131 - val_accuracy: 0.8195\n",
            "Epoch 8/40\n",
            "30/30 [==============================] - 0s 14ms/step - loss: 0.4733 - accuracy: 0.8500 - val_loss: 0.4739 - val_accuracy: 0.8334\n",
            "Epoch 9/40\n",
            "30/30 [==============================] - 0s 15ms/step - loss: 0.4312 - accuracy: 0.8607 - val_loss: 0.4390 - val_accuracy: 0.8444\n",
            "Epoch 10/40\n",
            "30/30 [==============================] - 0s 14ms/step - loss: 0.3955 - accuracy: 0.8713 - val_loss: 0.4098 - val_accuracy: 0.8531\n",
            "Epoch 11/40\n",
            "30/30 [==============================] - 0s 14ms/step - loss: 0.3623 - accuracy: 0.8825 - val_loss: 0.3862 - val_accuracy: 0.8561\n",
            "Epoch 12/40\n",
            "30/30 [==============================] - 0s 15ms/step - loss: 0.3358 - accuracy: 0.8875 - val_loss: 0.3674 - val_accuracy: 0.8629\n",
            "Epoch 13/40\n",
            "30/30 [==============================] - 0s 15ms/step - loss: 0.3136 - accuracy: 0.8947 - val_loss: 0.3509 - val_accuracy: 0.8686\n",
            "Epoch 14/40\n",
            "30/30 [==============================] - 0s 16ms/step - loss: 0.2930 - accuracy: 0.9005 - val_loss: 0.3380 - val_accuracy: 0.8728\n",
            "Epoch 15/40\n",
            "30/30 [==============================] - 0s 15ms/step - loss: 0.2757 - accuracy: 0.9064 - val_loss: 0.3279 - val_accuracy: 0.8751\n",
            "Epoch 16/40\n",
            "30/30 [==============================] - 0s 15ms/step - loss: 0.2617 - accuracy: 0.9111 - val_loss: 0.3191 - val_accuracy: 0.8772\n",
            "Epoch 17/40\n",
            "30/30 [==============================] - 0s 15ms/step - loss: 0.2481 - accuracy: 0.9155 - val_loss: 0.3115 - val_accuracy: 0.8789\n",
            "Epoch 18/40\n",
            "30/30 [==============================] - 0s 15ms/step - loss: 0.2351 - accuracy: 0.9199 - val_loss: 0.3061 - val_accuracy: 0.8803\n",
            "Epoch 19/40\n",
            "30/30 [==============================] - 0s 15ms/step - loss: 0.2247 - accuracy: 0.9232 - val_loss: 0.3011 - val_accuracy: 0.8819\n",
            "Epoch 20/40\n",
            "30/30 [==============================] - 0s 15ms/step - loss: 0.2139 - accuracy: 0.9265 - val_loss: 0.2978 - val_accuracy: 0.8819\n",
            "Epoch 21/40\n",
            "30/30 [==============================] - 0s 15ms/step - loss: 0.2044 - accuracy: 0.9298 - val_loss: 0.2939 - val_accuracy: 0.8834\n",
            "Epoch 22/40\n",
            "30/30 [==============================] - 0s 15ms/step - loss: 0.1942 - accuracy: 0.9349 - val_loss: 0.2911 - val_accuracy: 0.8836\n",
            "Epoch 23/40\n",
            "30/30 [==============================] - 0s 15ms/step - loss: 0.1866 - accuracy: 0.9379 - val_loss: 0.2893 - val_accuracy: 0.8835\n",
            "Epoch 24/40\n",
            "30/30 [==============================] - 0s 15ms/step - loss: 0.1786 - accuracy: 0.9423 - val_loss: 0.2877 - val_accuracy: 0.8847\n",
            "Epoch 25/40\n",
            "30/30 [==============================] - 0s 15ms/step - loss: 0.1723 - accuracy: 0.9443 - val_loss: 0.2886 - val_accuracy: 0.8838\n",
            "Epoch 26/40\n",
            "30/30 [==============================] - 0s 15ms/step - loss: 0.1647 - accuracy: 0.9475 - val_loss: 0.2868 - val_accuracy: 0.8836\n",
            "Epoch 27/40\n",
            "30/30 [==============================] - 0s 16ms/step - loss: 0.1587 - accuracy: 0.9514 - val_loss: 0.2858 - val_accuracy: 0.8849\n",
            "Epoch 28/40\n",
            "30/30 [==============================] - 0s 14ms/step - loss: 0.1521 - accuracy: 0.9544 - val_loss: 0.2870 - val_accuracy: 0.8849\n",
            "Epoch 29/40\n",
            "30/30 [==============================] - 0s 15ms/step - loss: 0.1467 - accuracy: 0.9548 - val_loss: 0.2876 - val_accuracy: 0.8836\n",
            "Epoch 30/40\n",
            "30/30 [==============================] - 0s 15ms/step - loss: 0.1407 - accuracy: 0.9581 - val_loss: 0.2873 - val_accuracy: 0.8868\n",
            "Epoch 31/40\n",
            "30/30 [==============================] - 0s 16ms/step - loss: 0.1347 - accuracy: 0.9595 - val_loss: 0.2888 - val_accuracy: 0.8860\n",
            "Epoch 32/40\n",
            "30/30 [==============================] - 0s 15ms/step - loss: 0.1296 - accuracy: 0.9622 - val_loss: 0.2895 - val_accuracy: 0.8860\n",
            "Epoch 33/40\n",
            "30/30 [==============================] - 0s 16ms/step - loss: 0.1249 - accuracy: 0.9644 - val_loss: 0.2912 - val_accuracy: 0.8858\n",
            "Epoch 34/40\n",
            "30/30 [==============================] - 0s 15ms/step - loss: 0.1208 - accuracy: 0.9662 - val_loss: 0.2934 - val_accuracy: 0.8856\n",
            "Epoch 35/40\n",
            "30/30 [==============================] - 0s 15ms/step - loss: 0.1162 - accuracy: 0.9671 - val_loss: 0.2952 - val_accuracy: 0.8853\n",
            "Epoch 36/40\n",
            "30/30 [==============================] - 0s 14ms/step - loss: 0.1111 - accuracy: 0.9687 - val_loss: 0.2973 - val_accuracy: 0.8838\n",
            "Epoch 37/40\n",
            "30/30 [==============================] - 0s 14ms/step - loss: 0.1079 - accuracy: 0.9709 - val_loss: 0.2998 - val_accuracy: 0.8836\n",
            "Epoch 38/40\n",
            "30/30 [==============================] - 0s 14ms/step - loss: 0.1031 - accuracy: 0.9712 - val_loss: 0.3023 - val_accuracy: 0.8835\n",
            "Epoch 39/40\n",
            "30/30 [==============================] - 0s 14ms/step - loss: 0.1006 - accuracy: 0.9735 - val_loss: 0.3057 - val_accuracy: 0.8842\n",
            "Epoch 40/40\n",
            "30/30 [==============================] - 0s 14ms/step - loss: 0.0965 - accuracy: 0.9751 - val_loss: 0.3094 - val_accuracy: 0.8812\n"
          ],
          "name": "stdout"
        }
      ]
    },
    {
      "cell_type": "code",
      "metadata": {
        "id": "NtyxSDe8EpCO",
        "colab_type": "code",
        "colab": {
          "base_uri": "https://localhost:8080/",
          "height": 53
        },
        "outputId": "632fab8e-4ab7-4a1c-b4f8-57fd6d7de7ad"
      },
      "source": [
        "results = model.evaluate(test_data,  test_labels, verbose=2)\n",
        "\n",
        "print(results)"
      ],
      "execution_count": 15,
      "outputs": [
        {
          "output_type": "stream",
          "text": [
            "782/782 - 2s - loss: 0.3283 - accuracy: 0.8718\n",
            "[0.3283047378063202, 0.8718400001525879]\n"
          ],
          "name": "stdout"
        }
      ]
    },
    {
      "cell_type": "code",
      "metadata": {
        "id": "2qqZ6785ExeZ",
        "colab_type": "code",
        "colab": {
          "base_uri": "https://localhost:8080/",
          "height": 35
        },
        "outputId": "fc683068-5815-4d0c-ea09-0a105a2575a4"
      },
      "source": [
        "history_dict = history.history\n",
        "history_dict.keys()"
      ],
      "execution_count": 16,
      "outputs": [
        {
          "output_type": "execute_result",
          "data": {
            "text/plain": [
              "dict_keys(['loss', 'accuracy', 'val_loss', 'val_accuracy'])"
            ]
          },
          "metadata": {
            "tags": []
          },
          "execution_count": 16
        }
      ]
    },
    {
      "cell_type": "code",
      "metadata": {
        "id": "0MDt20kqE0eP",
        "colab_type": "code",
        "colab": {
          "base_uri": "https://localhost:8080/",
          "height": 295
        },
        "outputId": "16ac4019-110a-4b15-9a98-3fa633846f2d"
      },
      "source": [
        "import matplotlib.pyplot as plt\n",
        "\n",
        "acc = history_dict['accuracy']\n",
        "val_acc = history_dict['val_accuracy']\n",
        "loss = history_dict['loss']\n",
        "val_loss = history_dict['val_loss']\n",
        "\n",
        "epochs = range(1, len(acc) + 1)\n",
        "\n",
        "# \"bo\" is for \"blue dot\"\n",
        "plt.plot(epochs, loss, 'bo', label='Training loss')\n",
        "# b is for \"solid blue line\"\n",
        "plt.plot(epochs, val_loss, 'b', label='Validation loss')\n",
        "plt.title('Training and validation loss')\n",
        "plt.xlabel('Epochs')\n",
        "plt.ylabel('Loss')\n",
        "plt.legend()\n",
        "\n",
        "plt.show()"
      ],
      "execution_count": 17,
      "outputs": [
        {
          "output_type": "display_data",
          "data": {
            "image/png": "[encoded data removed]",
            "text/plain": [
              "<Figure size 432x288 with 1 Axes>"
            ]
          },
          "metadata": {
            "tags": []
          }
        }
      ]
    },
    {
      "cell_type": "code",
      "metadata": {
        "id": "0wcOHh4oE7B0",
        "colab_type": "code",
        "colab": {
          "base_uri": "https://localhost:8080/",
          "height": 295
        },
        "outputId": "c51c7e07-0083-4a6d-dbd6-b21f6afccc9c"
      },
      "source": [
        "plt.clf()   # 図のクリア\n",
        "\n",
        "plt.plot(epochs, acc, 'bo', label='Training acc')\n",
        "plt.plot(epochs, val_acc, 'b', label='Validation acc')\n",
        "plt.title('Training and validation accuracy')\n",
        "plt.xlabel('Epochs')\n",
        "plt.ylabel('Accuracy')\n",
        "plt.legend()\n",
        "\n",
        "plt.show()"
      ],
      "execution_count": 18,
      "outputs": [
        {
          "output_type": "display_data",
          "data": {
            "image/png": "[encoded data removed]",
            "text/plain": [
              "<Figure size 432x288 with 1 Axes>"
            ]
          },
          "metadata": {
            "tags": []
          }
        }
      ]
    },
    {
      "cell_type": "code",
      "metadata": {
        "id": "pYmcneYXE-xg",
        "colab_type": "code",
        "colab": {}
      },
      "source": [
        ""
      ],
      "execution_count": 0,
      "outputs": []
    }
  ]
}