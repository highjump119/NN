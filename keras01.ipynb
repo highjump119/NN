{
  "nbformat": 4,
  "nbformat_minor": 0,
  "metadata": {
    "colab": {
      "name": "keras01.ipynb",
      "provenance": [],
      "authorship_tag": "ABX9TyP5AsmSWtTViq5cIaaK541o",
      "include_colab_link": true
    },
    "kernelspec": {
      "name": "python3",
      "display_name": "Python 3"
    },
    "accelerator": "GPU"
  },
  "cells": [
    {
      "cell_type": "markdown",
      "metadata": {
        "id": "view-in-github",
        "colab_type": "text"
      },
      "source": [
        "<a href=\"https://colab.research.google.com/github/highjump119/NN/blob/master/keras01.ipynb\" target=\"_parent\"><img src=\"https://colab.research.google.com/assets/colab-badge.svg\" alt=\"Open In Colab\"/></a>"
      ]
    },
    {
      "cell_type": "code",
      "metadata": {
        "id": "NtyNEWlqiZLb",
        "colab_type": "code",
        "colab": {
          "base_uri": "https://localhost:8080/",
          "height": 71
        },
        "outputId": "79d8fce5-a85c-4936-8ece-8045d250983b"
      },
      "source": [
        "from keras.datasets import mnist\n",
        "\n",
        "(x_train, y_train), (x_test, y_test) = mnist.load_data()"
      ],
      "execution_count": 1,
      "outputs": [
        {
          "output_type": "stream",
          "text": [
            "Using TensorFlow backend.\n"
          ],
          "name": "stderr"
        },
        {
          "output_type": "stream",
          "text": [
            "Downloading data from https://s3.amazonaws.com/img-datasets/mnist.npz\n",
            "11493376/11490434 [==============================] - 1s 0us/step\n"
          ],
          "name": "stdout"
        }
      ]
    },
    {
      "cell_type": "code",
      "metadata": {
        "id": "4dz_54j8igeu",
        "colab_type": "code",
        "colab": {}
      },
      "source": [
        "from keras.datasets import mnist\n",
        "\n",
        "(x_train, y_train), (x_test, y_test) = mnist.load_data()"
      ],
      "execution_count": 0,
      "outputs": []
    },
    {
      "cell_type": "code",
      "metadata": {
        "id": "mgSzouAAjJHu",
        "colab_type": "code",
        "colab": {}
      },
      "source": [
        "from keras.utils.np_utils import to_categorical\n",
        "\n",
        "\n",
        "# 画像を1次元化\n",
        "x_train = x_train.reshape(60000, 784)\n",
        "x_test = x_test.reshape(10000, 784)\n",
        "\n",
        "# 画素を0~1の範囲に変換(正規化)\n",
        "x_train = x_train.astype('float32') / 255\n",
        "x_test = x_test.astype('float32') / 255\n",
        "\n",
        "# 正解ラベルをone-hot-encoding\n",
        "y_train = to_categorical(y_train, 10)\n",
        "y_test = to_categorical(y_test, 10)"
      ],
      "execution_count": 0,
      "outputs": []
    },
    {
      "cell_type": "code",
      "metadata": {
        "id": "cBmYO0hBjRqM",
        "colab_type": "code",
        "colab": {}
      },
      "source": [
        "from keras.models import Sequential\n",
        "from keras.layers import Dense\n",
        "\n",
        "model = Sequential()\n",
        "model.add(Dense(64, activation='relu', input_dim=784))\n",
        "model.add(Dense(10, activation='softmax'))\n",
        "\n",
        "model.compile(optimizer='rmsprop',\n",
        "              loss='categorical_crossentropy',\n",
        "              metrics=['accuracy'])\n"
      ],
      "execution_count": 0,
      "outputs": []
    },
    {
      "cell_type": "code",
      "metadata": {
        "id": "suxCH2hTjnOZ",
        "colab_type": "code",
        "colab": {
          "base_uri": "https://localhost:8080/",
          "height": 467
        },
        "outputId": "1f7a3c01-a22d-4b40-a30b-2f5f14183545"
      },
      "source": [
        "model.fit(x_train, y_train,\n",
        "            batch_size=100,\n",
        "            epochs=12,\n",
        "            verbose=1)"
      ],
      "execution_count": 5,
      "outputs": [
        {
          "output_type": "stream",
          "text": [
            "Epoch 1/12\n",
            "60000/60000 [==============================] - 3s 51us/step - loss: 0.3623 - accuracy: 0.9026\n",
            "Epoch 2/12\n",
            "60000/60000 [==============================] - 1s 22us/step - loss: 0.1874 - accuracy: 0.9450\n",
            "Epoch 3/12\n",
            "60000/60000 [==============================] - 1s 23us/step - loss: 0.1415 - accuracy: 0.9589\n",
            "Epoch 4/12\n",
            "60000/60000 [==============================] - 1s 23us/step - loss: 0.1143 - accuracy: 0.9668\n",
            "Epoch 5/12\n",
            "60000/60000 [==============================] - 1s 22us/step - loss: 0.0967 - accuracy: 0.9717\n",
            "Epoch 6/12\n",
            "60000/60000 [==============================] - 1s 22us/step - loss: 0.0836 - accuracy: 0.9756\n",
            "Epoch 7/12\n",
            "60000/60000 [==============================] - 1s 24us/step - loss: 0.0741 - accuracy: 0.9788\n",
            "Epoch 8/12\n",
            "60000/60000 [==============================] - 1s 22us/step - loss: 0.0659 - accuracy: 0.9811\n",
            "Epoch 9/12\n",
            "60000/60000 [==============================] - 1s 22us/step - loss: 0.0600 - accuracy: 0.9825\n",
            "Epoch 10/12\n",
            "60000/60000 [==============================] - 1s 22us/step - loss: 0.0554 - accuracy: 0.9838\n",
            "Epoch 11/12\n",
            "60000/60000 [==============================] - 1s 22us/step - loss: 0.0502 - accuracy: 0.9859\n",
            "Epoch 12/12\n",
            "60000/60000 [==============================] - 1s 23us/step - loss: 0.0460 - accuracy: 0.9866\n"
          ],
          "name": "stdout"
        },
        {
          "output_type": "execute_result",
          "data": {
            "text/plain": [
              "<keras.callbacks.callbacks.History at 0x7f10a3e674a8>"
            ]
          },
          "metadata": {
            "tags": []
          },
          "execution_count": 5
        }
      ]
    },
    {
      "cell_type": "code",
      "metadata": {
        "id": "5EjYEB3ljsrJ",
        "colab_type": "code",
        "colab": {
          "base_uri": "https://localhost:8080/",
          "height": 71
        },
        "outputId": "f76d928a-42ec-418b-ff80-8902f72fac46"
      },
      "source": [
        "score = model.evaluate(x_test, y_test)\n",
        "print(score[0])\n",
        "print(score[1])"
      ],
      "execution_count": 6,
      "outputs": [
        {
          "output_type": "stream",
          "text": [
            "10000/10000 [==============================] - 0s 44us/step\n",
            "0.08602291852768976\n",
            "0.9739999771118164\n"
          ],
          "name": "stdout"
        }
      ]
    },
    {
      "cell_type": "code",
      "metadata": {
        "id": "GDdzc-Cvj1r-",
        "colab_type": "code",
        "colab": {}
      },
      "source": [
        ""
      ],
      "execution_count": 0,
      "outputs": []
    }
  ]
}